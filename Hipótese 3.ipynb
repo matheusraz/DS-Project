{
 "cells": [
  {
   "cell_type": "markdown",
   "metadata": {},
   "source": [
    "### Hipótese 3 (E3)"
   ]
  },
  {
   "cell_type": "markdown",
   "metadata": {},
   "source": [
    "#### É possível predizer a plataforma de um game baseado em suas vendas?"
   ]
  },
  {
   "cell_type": "code",
   "execution_count": 18,
   "metadata": {},
   "outputs": [],
   "source": [
    "import numpy as np  \n",
    "import matplotlib.pyplot as plt  \n",
    "import pandas as pd"
   ]
  },
  {
   "cell_type": "code",
   "execution_count": 19,
   "metadata": {},
   "outputs": [],
   "source": [
    "game = pd.read_csv('vgsales.csv', sep=',', encoding='utf-8')"
   ]
  },
  {
   "cell_type": "code",
   "execution_count": 20,
   "metadata": {},
   "outputs": [
    {
     "data": {
      "text/html": [
       "<div>\n",
       "<style scoped>\n",
       "    .dataframe tbody tr th:only-of-type {\n",
       "        vertical-align: middle;\n",
       "    }\n",
       "\n",
       "    .dataframe tbody tr th {\n",
       "        vertical-align: top;\n",
       "    }\n",
       "\n",
       "    .dataframe thead th {\n",
       "        text-align: right;\n",
       "    }\n",
       "</style>\n",
       "<table border=\"1\" class=\"dataframe\">\n",
       "  <thead>\n",
       "    <tr style=\"text-align: right;\">\n",
       "      <th></th>\n",
       "      <th>Rank</th>\n",
       "      <th>Name</th>\n",
       "      <th>Platform</th>\n",
       "      <th>Year</th>\n",
       "      <th>Genre</th>\n",
       "      <th>Publisher</th>\n",
       "      <th>NA_Sales</th>\n",
       "      <th>EU_Sales</th>\n",
       "      <th>JP_Sales</th>\n",
       "      <th>Other_Sales</th>\n",
       "      <th>Global_Sales</th>\n",
       "    </tr>\n",
       "  </thead>\n",
       "  <tbody>\n",
       "    <tr>\n",
       "      <th>0</th>\n",
       "      <td>1</td>\n",
       "      <td>Wii Sports</td>\n",
       "      <td>Wii</td>\n",
       "      <td>2006.0</td>\n",
       "      <td>Sports</td>\n",
       "      <td>Nintendo</td>\n",
       "      <td>41.49</td>\n",
       "      <td>29.02</td>\n",
       "      <td>3.77</td>\n",
       "      <td>8.46</td>\n",
       "      <td>82.74</td>\n",
       "    </tr>\n",
       "    <tr>\n",
       "      <th>1</th>\n",
       "      <td>2</td>\n",
       "      <td>Super Mario Bros.</td>\n",
       "      <td>NES</td>\n",
       "      <td>1985.0</td>\n",
       "      <td>Platform</td>\n",
       "      <td>Nintendo</td>\n",
       "      <td>29.08</td>\n",
       "      <td>3.58</td>\n",
       "      <td>6.81</td>\n",
       "      <td>0.77</td>\n",
       "      <td>40.24</td>\n",
       "    </tr>\n",
       "    <tr>\n",
       "      <th>2</th>\n",
       "      <td>3</td>\n",
       "      <td>Mario Kart Wii</td>\n",
       "      <td>Wii</td>\n",
       "      <td>2008.0</td>\n",
       "      <td>Racing</td>\n",
       "      <td>Nintendo</td>\n",
       "      <td>15.85</td>\n",
       "      <td>12.88</td>\n",
       "      <td>3.79</td>\n",
       "      <td>3.31</td>\n",
       "      <td>35.82</td>\n",
       "    </tr>\n",
       "    <tr>\n",
       "      <th>3</th>\n",
       "      <td>4</td>\n",
       "      <td>Wii Sports Resort</td>\n",
       "      <td>Wii</td>\n",
       "      <td>2009.0</td>\n",
       "      <td>Sports</td>\n",
       "      <td>Nintendo</td>\n",
       "      <td>15.75</td>\n",
       "      <td>11.01</td>\n",
       "      <td>3.28</td>\n",
       "      <td>2.96</td>\n",
       "      <td>33.00</td>\n",
       "    </tr>\n",
       "    <tr>\n",
       "      <th>4</th>\n",
       "      <td>5</td>\n",
       "      <td>Pokemon Red/Pokemon Blue</td>\n",
       "      <td>GB</td>\n",
       "      <td>1996.0</td>\n",
       "      <td>Role-Playing</td>\n",
       "      <td>Nintendo</td>\n",
       "      <td>11.27</td>\n",
       "      <td>8.89</td>\n",
       "      <td>10.22</td>\n",
       "      <td>1.00</td>\n",
       "      <td>31.37</td>\n",
       "    </tr>\n",
       "  </tbody>\n",
       "</table>\n",
       "</div>"
      ],
      "text/plain": [
       "   Rank                      Name Platform    Year         Genre Publisher  \\\n",
       "0     1                Wii Sports      Wii  2006.0        Sports  Nintendo   \n",
       "1     2         Super Mario Bros.      NES  1985.0      Platform  Nintendo   \n",
       "2     3            Mario Kart Wii      Wii  2008.0        Racing  Nintendo   \n",
       "3     4         Wii Sports Resort      Wii  2009.0        Sports  Nintendo   \n",
       "4     5  Pokemon Red/Pokemon Blue       GB  1996.0  Role-Playing  Nintendo   \n",
       "\n",
       "   NA_Sales  EU_Sales  JP_Sales  Other_Sales  Global_Sales  \n",
       "0     41.49     29.02      3.77         8.46         82.74  \n",
       "1     29.08      3.58      6.81         0.77         40.24  \n",
       "2     15.85     12.88      3.79         3.31         35.82  \n",
       "3     15.75     11.01      3.28         2.96         33.00  \n",
       "4     11.27      8.89     10.22         1.00         31.37  "
      ]
     },
     "execution_count": 20,
     "metadata": {},
     "output_type": "execute_result"
    }
   ],
   "source": [
    "game.head()"
   ]
  },
  {
   "cell_type": "code",
   "execution_count": 21,
   "metadata": {},
   "outputs": [],
   "source": [
    "X = game.iloc[:, 6:11].values  \n",
    "y = game.iloc[:, 2].values "
   ]
  },
  {
   "cell_type": "code",
   "execution_count": 22,
   "metadata": {},
   "outputs": [
    {
     "data": {
      "text/plain": [
       "array([[4.149e+01, 2.902e+01, 3.770e+00, 8.460e+00, 8.274e+01],\n",
       "       [2.908e+01, 3.580e+00, 6.810e+00, 7.700e-01, 4.024e+01],\n",
       "       [1.585e+01, 1.288e+01, 3.790e+00, 3.310e+00, 3.582e+01],\n",
       "       ...,\n",
       "       [0.000e+00, 0.000e+00, 0.000e+00, 0.000e+00, 1.000e-02],\n",
       "       [0.000e+00, 1.000e-02, 0.000e+00, 0.000e+00, 1.000e-02],\n",
       "       [1.000e-02, 0.000e+00, 0.000e+00, 0.000e+00, 1.000e-02]])"
      ]
     },
     "execution_count": 22,
     "metadata": {},
     "output_type": "execute_result"
    }
   ],
   "source": [
    "X"
   ]
  },
  {
   "cell_type": "code",
   "execution_count": 23,
   "metadata": {},
   "outputs": [
    {
     "data": {
      "text/plain": [
       "array(['Wii', 'NES', 'Wii', ..., 'PS2', 'DS', 'GBA'], dtype=object)"
      ]
     },
     "execution_count": 23,
     "metadata": {},
     "output_type": "execute_result"
    }
   ],
   "source": [
    "y"
   ]
  },
  {
   "cell_type": "code",
   "execution_count": 24,
   "metadata": {},
   "outputs": [],
   "source": [
    "from sklearn.model_selection import train_test_split\n",
    "X_train, X_test, y_train, y_test = train_test_split(X, y, test_size=0.20)"
   ]
  },
  {
   "cell_type": "code",
   "execution_count": 25,
   "metadata": {},
   "outputs": [],
   "source": [
    "from sklearn.preprocessing import StandardScaler  \n",
    "scaler = StandardScaler()  \n",
    "scaler.fit(X_train)\n",
    "\n",
    "X_train = scaler.transform(X_train)  \n",
    "X_test = scaler.transform(X_test)"
   ]
  },
  {
   "cell_type": "code",
   "execution_count": 26,
   "metadata": {},
   "outputs": [
    {
     "data": {
      "text/plain": [
       "array([[-0.18341943, -0.07189133, -0.21874774,  0.00560214, -0.16205656],\n",
       "       [-0.18341943, -0.22554495, -0.25058312, -0.19612055, -0.24249442],\n",
       "       [-0.04287661,  0.00493548, -0.21874774, -0.04482853, -0.06924364],\n",
       "       ...,\n",
       "       [-0.28882655, -0.28316506, -0.25058312, -0.19612055, -0.31674475],\n",
       "       [-0.08972421, -0.26395836, -0.25058312, -0.14568988, -0.1929942 ],\n",
       "       [-0.26540275, -0.22554495, -0.25058312, -0.24655122, -0.29199464]])"
      ]
     },
     "execution_count": 26,
     "metadata": {},
     "output_type": "execute_result"
    }
   ],
   "source": [
    "X_train"
   ]
  },
  {
   "cell_type": "code",
   "execution_count": 27,
   "metadata": {},
   "outputs": [
    {
     "data": {
      "text/plain": [
       "array([[-0.31225035, -0.28316506, -0.12324161, -0.24655122, -0.31055722],\n",
       "       [-0.13657182, -0.20633825, -0.25058312, -0.19612055, -0.20536925],\n",
       "       [ 0.5544304 ,  0.21620921, -0.18691236,  0.50990887,  0.3886334 ],\n",
       "       ...,\n",
       "       [-0.31225035, -0.28316506, -0.05957085, -0.24655122, -0.29818217],\n",
       "       [-0.31225035, -0.28316506,  0.89549047, -0.24655122, -0.11255634],\n",
       "       [-0.21855514, -0.22554495, -0.25058312, -0.19612055, -0.25486947]])"
      ]
     },
     "execution_count": 27,
     "metadata": {},
     "output_type": "execute_result"
    }
   ],
   "source": [
    "X_test"
   ]
  },
  {
   "cell_type": "code",
   "execution_count": 28,
   "metadata": {},
   "outputs": [
    {
     "data": {
      "text/plain": [
       "KNeighborsClassifier(algorithm='auto', leaf_size=30, metric='minkowski',\n",
       "           metric_params=None, n_jobs=None, n_neighbors=5, p=2,\n",
       "           weights='uniform')"
      ]
     },
     "execution_count": 28,
     "metadata": {},
     "output_type": "execute_result"
    }
   ],
   "source": [
    "from sklearn.neighbors import KNeighborsClassifier  \n",
    "classifier = KNeighborsClassifier(n_neighbors=5)  \n",
    "classifier.fit(X_train, y_train) "
   ]
  },
  {
   "cell_type": "code",
   "execution_count": 29,
   "metadata": {},
   "outputs": [],
   "source": [
    "y_pred = classifier.predict(X_test)"
   ]
  },
  {
   "cell_type": "code",
   "execution_count": 30,
   "metadata": {},
   "outputs": [
    {
     "name": "stdout",
     "output_type": "stream",
     "text": [
      "[[ 28   0   0   0   0   0   0   0   0   0   0   0   0   1   0   0   0   0\n",
      "    0   0   0   0   0   0   0   0   1   0]\n",
      " [  0  23   0  25   1   0   1   0   0   0   0   3   0   6  13   0   0   2\n",
      "    1   2   0   4   0   4   1   5   0   0]\n",
      " [  0   2   0   5   2   0   0   0   0   0   0   0   0   0   2   0   0   0\n",
      "    0   0   0   2   0   0   0   0   0   0]\n",
      " [  0  45   1 163   1   3   4   0   3   1   0  12   0   4  15   2   3  26\n",
      "    9   2   0   0   0  81   0  20   7   1]\n",
      " [  0   5   1   3   1   2   1   0   0   1   0   0   0   1   2   0   0   0\n",
      "    0   1   0   2   0   0   0   0   0   0]\n",
      " [  0  14   0   1   1 110   4   0   1   1   0   2   0   3   2   0   0   0\n",
      "    0   1   0   1   0   0   0   0  15   0]\n",
      " [  0   3   0   1   3  19  48   0   4   1   0   0   0   1   0   2   0   4\n",
      "    0   0   0   0   0   0   0   0  27   0]\n",
      " [  0   3   0   3   0   0   0   0   0   0   0   0   0   2   0   0   0   0\n",
      "    0   0   0   0   0   0   0   0   0   0]\n",
      " [  8   3   0   2   0   6   7   0  17   0   0   0   0   1   0   1   0   2\n",
      "    1   0   0   0   0   0   0   1   5   0]\n",
      " [  0   1   0   1   1   2   1   0   1   5   0   0   0   1   0   0   0   0\n",
      "    0   1   0   0   0   0   0   0   0   0]\n",
      " [  0   3   1   1   0   0   0   0   0   0   0   0   0   0   1   0   0   0\n",
      "    0   0   0   0   0   0   0   0   0   0]\n",
      " [  4   3   0  21   0   0   0   0   1   0   0 124   0   5   3  10   4   2\n",
      "    0   0   0   0   0  10   0   3   3   0]\n",
      " [  0   1   0   0   0   0   0   0   0   0   0   0   0   0   0   0   0   0\n",
      "    0   0   0   0   0   0   0   0   0   0]\n",
      " [  1   9   0   6   1   6   2   0   0   0   0   3   0 186  14   0   0   0\n",
      "    0   0   0   2   0   0   0   1   0   1]\n",
      " [  0  44   0  25   3   3   2   0   0   1   0   2   0  21 280   8   3   4\n",
      "   11   3   0   9   0   2   1  10   0   0]\n",
      " [  0  25   1  30   0   0   0   0   0   0   0  24   0   6  24 116   3   6\n",
      "    8   4   0   1   0  12   0   5   0   0]\n",
      " [  0   5   0   5   0   0   0   0   0   0   0  11   0   2   6  17   7   3\n",
      "    2   0   0   0   0   1   0   0   2   0]\n",
      " [  0  57   1  68   1   1   1   0   0   0   0   1   0   1  19  25   1  31\n",
      "   21   4   0   1   0  13   0   4   0   0]\n",
      " [  0  30   1   4   0   0   1   0   0   0   0   2   0   3  15  16   1   3\n",
      "    8   1   0   0   0   0   0   0   0   0]\n",
      " [  0  11   0   7   0   0   1   0   0   0   0   0   0   0   7   0   0   2\n",
      "    0   2   0   1   0   0   0   0   0   0]\n",
      " [  0   0   0   1   0   0   0   0   0   0   0   0   0   0   0   0   0   0\n",
      "    0   0   0   0   0   0   0   0   0   0]\n",
      " [  0  13   1  10   2   1   0   0   2   5   0   0   0   0   6   0   0   1\n",
      "    0   0   0   8   0   0   0   0   0   0]\n",
      " [  0   1   0   0   0   0   0   0   0   0   0   0   0   0   0   0   0   0\n",
      "    0   0   0   0   0   0   0   0   0   0]\n",
      " [  0  23   0  90   1   2   3   0   1   0   0  22   0   8   5   5   3   9\n",
      "    4   4   0   1   0  54   1  38   1   0]\n",
      " [  0   4   0   3   0   0   0   0   0   0   0   2   0   5   1   1   0   0\n",
      "    2   0   0   0   0   2   0   2   0   1]\n",
      " [  1  24   0  59   0   2   0   0   0   0   0  23   0  10  10   3   2   6\n",
      "    5   0   0   0   0  48   1  82   2   2]\n",
      " [  0   1   0   0   0  35  17   0   4   0   0   0   0   9   1   0   0   6\n",
      "    0   0   0   0   0   4   0   3 111   0]\n",
      " [  0   1   0   7   0   1   0   0   0   0   0   6   0   7   1   0   0   2\n",
      "    0   0   0   0   0   4   2  11   0   0]]\n",
      "              precision    recall  f1-score   support\n",
      "\n",
      "        2600       0.67      0.93      0.78        30\n",
      "         3DS       0.06      0.25      0.10        91\n",
      "          DC       0.00      0.00      0.00        13\n",
      "          DS       0.30      0.40      0.35       403\n",
      "          GB       0.06      0.05      0.05        20\n",
      "         GBA       0.57      0.71      0.63       156\n",
      "          GC       0.52      0.42      0.47       113\n",
      "         GEN       0.00      0.00      0.00         8\n",
      "         N64       0.50      0.31      0.39        54\n",
      "         NES       0.33      0.36      0.34        14\n",
      "          NG       0.00      0.00      0.00         6\n",
      "          PC       0.52      0.64      0.58       193\n",
      "        PCFX       0.00      0.00      0.00         1\n",
      "          PS       0.66      0.80      0.72       232\n",
      "         PS2       0.66      0.65      0.65       432\n",
      "         PS3       0.56      0.44      0.49       265\n",
      "         PS4       0.26      0.11      0.16        61\n",
      "         PSP       0.28      0.12      0.17       250\n",
      "         PSV       0.11      0.09      0.10        85\n",
      "         SAT       0.08      0.06      0.07        31\n",
      "         SCD       0.00      0.00      0.00         1\n",
      "        SNES       0.25      0.16      0.20        49\n",
      "          WS       0.00      0.00      0.00         1\n",
      "         Wii       0.23      0.20      0.21       275\n",
      "        WiiU       0.00      0.00      0.00        23\n",
      "        X360       0.44      0.29      0.35       280\n",
      "          XB       0.64      0.58      0.61       191\n",
      "        XOne       0.00      0.00      0.00        42\n",
      "\n",
      "   micro avg       0.42      0.42      0.42      3320\n",
      "   macro avg       0.28      0.27      0.27      3320\n",
      "weighted avg       0.43      0.42      0.42      3320\n",
      "\n"
     ]
    },
    {
     "name": "stderr",
     "output_type": "stream",
     "text": [
      "/home/joaopaulo/anaconda3/lib/python3.7/site-packages/sklearn/metrics/classification.py:1143: UndefinedMetricWarning: Precision and F-score are ill-defined and being set to 0.0 in labels with no predicted samples.\n",
      "  'precision', 'predicted', average, warn_for)\n"
     ]
    }
   ],
   "source": [
    "from sklearn.metrics import classification_report, confusion_matrix  \n",
    "print(confusion_matrix(y_test, y_pred))  \n",
    "print(classification_report(y_test, y_pred))"
   ]
  },
  {
   "cell_type": "code",
   "execution_count": 31,
   "metadata": {},
   "outputs": [],
   "source": [
    "success = []"
   ]
  },
  {
   "cell_type": "code",
   "execution_count": null,
   "metadata": {},
   "outputs": [],
   "source": [
    "for i in range(1, 50):  \n",
    "    knn = KNeighborsClassifier(n_neighbors=i)\n",
    "    knn.fit(X_train, y_train)\n",
    "    pred_i = knn.predict(X_test)\n",
    "    success.append(np.mean(pred_i == y_test))"
   ]
  },
  {
   "cell_type": "code",
   "execution_count": null,
   "metadata": {},
   "outputs": [],
   "source": [
    "success"
   ]
  },
  {
   "cell_type": "code",
   "execution_count": null,
   "metadata": {},
   "outputs": [],
   "source": [
    "plt.figure(figsize=(12, 6))  \n",
    "plt.plot(range(1, 50), success, color='red', linestyle='dashed', marker='o',  \n",
    "         markerfacecolor='blue', markersize=10)\n",
    "plt.title('Taxa acerto de valores K ')  \n",
    "plt.xlabel('K Valores')  \n",
    "plt.ylabel('Media de Acerto')"
   ]
  },
  {
   "cell_type": "markdown",
   "metadata": {},
   "source": [
    "### Conclusão"
   ]
  },
  {
   "cell_type": "markdown",
   "metadata": {},
   "source": [
    "O melhor resultado que obtemos foi quando se estabelecem algo próximo à 12 vizinhos, tendo uma taxa de acerto média por volta dos 45%. Porém esse valor é baixo e a hipótese acabou sendo refutada, ou seja, não é possível classificar a plataforma de um jogo com precisão baseado apenas nas suas vendas."
   ]
  },
  {
   "cell_type": "code",
   "execution_count": null,
   "metadata": {},
   "outputs": [],
   "source": []
  }
 ],
 "metadata": {
  "kernelspec": {
   "display_name": "Python 3",
   "language": "python",
   "name": "python3"
  },
  "language_info": {
   "codemirror_mode": {
    "name": "ipython",
    "version": 3
   },
   "file_extension": ".py",
   "mimetype": "text/x-python",
   "name": "python",
   "nbconvert_exporter": "python",
   "pygments_lexer": "ipython3",
   "version": "3.7.3"
  }
 },
 "nbformat": 4,
 "nbformat_minor": 2
}
