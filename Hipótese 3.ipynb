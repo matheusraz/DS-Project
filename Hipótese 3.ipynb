{
 "cells": [
  {
   "cell_type": "markdown",
   "metadata": {},
   "source": [
    "### Hipótese 3 (E3)"
   ]
  },
  {
   "cell_type": "markdown",
   "metadata": {},
   "source": [
    "#### É possível predizer a plataforma de um game baseado em suas vendas?"
   ]
  },
  {
   "cell_type": "code",
   "execution_count": 105,
   "metadata": {},
   "outputs": [],
   "source": [
    "import numpy as np  \n",
    "import matplotlib.pyplot as plt  \n",
    "import pandas as pd"
   ]
  },
  {
   "cell_type": "code",
   "execution_count": 106,
   "metadata": {},
   "outputs": [],
   "source": [
    "game = pd.read_csv('vgsales.csv', sep=',', encoding='utf-8')"
   ]
  },
  {
   "cell_type": "code",
   "execution_count": 107,
   "metadata": {},
   "outputs": [
    {
     "data": {
      "text/html": [
       "<div>\n",
       "<style scoped>\n",
       "    .dataframe tbody tr th:only-of-type {\n",
       "        vertical-align: middle;\n",
       "    }\n",
       "\n",
       "    .dataframe tbody tr th {\n",
       "        vertical-align: top;\n",
       "    }\n",
       "\n",
       "    .dataframe thead th {\n",
       "        text-align: right;\n",
       "    }\n",
       "</style>\n",
       "<table border=\"1\" class=\"dataframe\">\n",
       "  <thead>\n",
       "    <tr style=\"text-align: right;\">\n",
       "      <th></th>\n",
       "      <th>Rank</th>\n",
       "      <th>Name</th>\n",
       "      <th>Platform</th>\n",
       "      <th>Year</th>\n",
       "      <th>Genre</th>\n",
       "      <th>Publisher</th>\n",
       "      <th>NA_Sales</th>\n",
       "      <th>EU_Sales</th>\n",
       "      <th>JP_Sales</th>\n",
       "      <th>Other_Sales</th>\n",
       "      <th>Global_Sales</th>\n",
       "    </tr>\n",
       "  </thead>\n",
       "  <tbody>\n",
       "    <tr>\n",
       "      <th>0</th>\n",
       "      <td>1</td>\n",
       "      <td>Wii Sports</td>\n",
       "      <td>Wii</td>\n",
       "      <td>2006.0</td>\n",
       "      <td>Sports</td>\n",
       "      <td>Nintendo</td>\n",
       "      <td>41.49</td>\n",
       "      <td>29.02</td>\n",
       "      <td>3.77</td>\n",
       "      <td>8.46</td>\n",
       "      <td>82.74</td>\n",
       "    </tr>\n",
       "    <tr>\n",
       "      <th>1</th>\n",
       "      <td>2</td>\n",
       "      <td>Super Mario Bros.</td>\n",
       "      <td>NES</td>\n",
       "      <td>1985.0</td>\n",
       "      <td>Platform</td>\n",
       "      <td>Nintendo</td>\n",
       "      <td>29.08</td>\n",
       "      <td>3.58</td>\n",
       "      <td>6.81</td>\n",
       "      <td>0.77</td>\n",
       "      <td>40.24</td>\n",
       "    </tr>\n",
       "    <tr>\n",
       "      <th>2</th>\n",
       "      <td>3</td>\n",
       "      <td>Mario Kart Wii</td>\n",
       "      <td>Wii</td>\n",
       "      <td>2008.0</td>\n",
       "      <td>Racing</td>\n",
       "      <td>Nintendo</td>\n",
       "      <td>15.85</td>\n",
       "      <td>12.88</td>\n",
       "      <td>3.79</td>\n",
       "      <td>3.31</td>\n",
       "      <td>35.82</td>\n",
       "    </tr>\n",
       "    <tr>\n",
       "      <th>3</th>\n",
       "      <td>4</td>\n",
       "      <td>Wii Sports Resort</td>\n",
       "      <td>Wii</td>\n",
       "      <td>2009.0</td>\n",
       "      <td>Sports</td>\n",
       "      <td>Nintendo</td>\n",
       "      <td>15.75</td>\n",
       "      <td>11.01</td>\n",
       "      <td>3.28</td>\n",
       "      <td>2.96</td>\n",
       "      <td>33.00</td>\n",
       "    </tr>\n",
       "    <tr>\n",
       "      <th>4</th>\n",
       "      <td>5</td>\n",
       "      <td>Pokemon Red/Pokemon Blue</td>\n",
       "      <td>GB</td>\n",
       "      <td>1996.0</td>\n",
       "      <td>Role-Playing</td>\n",
       "      <td>Nintendo</td>\n",
       "      <td>11.27</td>\n",
       "      <td>8.89</td>\n",
       "      <td>10.22</td>\n",
       "      <td>1.00</td>\n",
       "      <td>31.37</td>\n",
       "    </tr>\n",
       "  </tbody>\n",
       "</table>\n",
       "</div>"
      ],
      "text/plain": [
       "   Rank                      Name Platform    Year         Genre Publisher  \\\n",
       "0     1                Wii Sports      Wii  2006.0        Sports  Nintendo   \n",
       "1     2         Super Mario Bros.      NES  1985.0      Platform  Nintendo   \n",
       "2     3            Mario Kart Wii      Wii  2008.0        Racing  Nintendo   \n",
       "3     4         Wii Sports Resort      Wii  2009.0        Sports  Nintendo   \n",
       "4     5  Pokemon Red/Pokemon Blue       GB  1996.0  Role-Playing  Nintendo   \n",
       "\n",
       "   NA_Sales  EU_Sales  JP_Sales  Other_Sales  Global_Sales  \n",
       "0     41.49     29.02      3.77         8.46         82.74  \n",
       "1     29.08      3.58      6.81         0.77         40.24  \n",
       "2     15.85     12.88      3.79         3.31         35.82  \n",
       "3     15.75     11.01      3.28         2.96         33.00  \n",
       "4     11.27      8.89     10.22         1.00         31.37  "
      ]
     },
     "execution_count": 107,
     "metadata": {},
     "output_type": "execute_result"
    }
   ],
   "source": [
    "game.head()"
   ]
  },
  {
   "cell_type": "code",
   "execution_count": 108,
   "metadata": {},
   "outputs": [],
   "source": [
    "X = game.iloc[:, 6:11].values  \n",
    "y = game.iloc[:, 2].values "
   ]
  },
  {
   "cell_type": "code",
   "execution_count": 109,
   "metadata": {},
   "outputs": [
    {
     "data": {
      "text/plain": [
       "array([[4.149e+01, 2.902e+01, 3.770e+00, 8.460e+00, 8.274e+01],\n",
       "       [2.908e+01, 3.580e+00, 6.810e+00, 7.700e-01, 4.024e+01],\n",
       "       [1.585e+01, 1.288e+01, 3.790e+00, 3.310e+00, 3.582e+01],\n",
       "       ...,\n",
       "       [0.000e+00, 0.000e+00, 0.000e+00, 0.000e+00, 1.000e-02],\n",
       "       [0.000e+00, 1.000e-02, 0.000e+00, 0.000e+00, 1.000e-02],\n",
       "       [1.000e-02, 0.000e+00, 0.000e+00, 0.000e+00, 1.000e-02]])"
      ]
     },
     "execution_count": 109,
     "metadata": {},
     "output_type": "execute_result"
    }
   ],
   "source": [
    "X"
   ]
  },
  {
   "cell_type": "code",
   "execution_count": 110,
   "metadata": {},
   "outputs": [
    {
     "data": {
      "text/plain": [
       "array(['Wii', 'NES', 'Wii', ..., 'PS2', 'DS', 'GBA'], dtype=object)"
      ]
     },
     "execution_count": 110,
     "metadata": {},
     "output_type": "execute_result"
    }
   ],
   "source": [
    "y"
   ]
  },
  {
   "cell_type": "code",
   "execution_count": 111,
   "metadata": {},
   "outputs": [],
   "source": [
    "from sklearn.model_selection import train_test_split\n",
    "X_train, X_test, y_train, y_test = train_test_split(X, y, test_size=0.20)"
   ]
  },
  {
   "cell_type": "code",
   "execution_count": 112,
   "metadata": {},
   "outputs": [],
   "source": [
    "from sklearn.preprocessing import StandardScaler  \n",
    "scaler = StandardScaler()  \n",
    "scaler.fit(X_train)\n",
    "\n",
    "X_train = scaler.transform(X_train)  \n",
    "X_test = scaler.transform(X_test)"
   ]
  },
  {
   "cell_type": "code",
   "execution_count": 113,
   "metadata": {},
   "outputs": [
    {
     "data": {
      "text/plain": [
       "array([[-0.0011734 , -0.27255509, -0.25485576, -0.09703137, -0.14818794],\n",
       "       [-0.08280724, -0.19397542, -0.25485576, -0.19847882, -0.17942398],\n",
       "       [-0.19942701, -0.15468559, -0.25485576, -0.1477551 , -0.22315443],\n",
       "       ...,\n",
       "       [-0.3043848 , -0.27255509, -0.25485576, -0.24920254, -0.32935697],\n",
       "       [-0.3043848 , -0.27255509, -0.25485576, -0.24920254, -0.32310976],\n",
       "       [-0.31604678, -0.2922    ,  0.03905363, -0.24920254, -0.28562651]])"
      ]
     },
     "execution_count": 113,
     "metadata": {},
     "output_type": "execute_result"
    }
   ],
   "source": [
    "X_train"
   ]
  },
  {
   "cell_type": "code",
   "execution_count": 114,
   "metadata": {},
   "outputs": [
    {
     "data": {
      "text/plain": [
       "array([[-0.31604678, -0.2922    ,  0.52890262, -0.24920254, -0.19191839],\n",
       "       [ 0.10378439,  0.45430681, -0.25485576, -0.09703137,  0.13293643],\n",
       "       [-0.31604678, -0.2922    ,  0.23499323, -0.24920254, -0.24814327],\n",
       "       ...,\n",
       "       [-0.31604678, -0.2922    , -0.09157276, -0.24920254, -0.31061535],\n",
       "       [ 0.53527755,  0.00247374, -0.25485576,  0.30875841,  0.27662222],\n",
       "       [-0.22275096, -0.23326525, -0.25485576, -0.24920254, -0.26688489]])"
      ]
     },
     "execution_count": 114,
     "metadata": {},
     "output_type": "execute_result"
    }
   ],
   "source": [
    "X_test"
   ]
  },
  {
   "cell_type": "code",
   "execution_count": 115,
   "metadata": {},
   "outputs": [
    {
     "data": {
      "text/plain": [
       "KNeighborsClassifier(algorithm='auto', leaf_size=30, metric='minkowski',\n",
       "           metric_params=None, n_jobs=1, n_neighbors=5, p=2,\n",
       "           weights='uniform')"
      ]
     },
     "execution_count": 115,
     "metadata": {},
     "output_type": "execute_result"
    }
   ],
   "source": [
    "from sklearn.neighbors import KNeighborsClassifier  \n",
    "classifier = KNeighborsClassifier(n_neighbors=5)  \n",
    "classifier.fit(X_train, y_train) "
   ]
  },
  {
   "cell_type": "code",
   "execution_count": 116,
   "metadata": {},
   "outputs": [],
   "source": [
    "y_pred = classifier.predict(X_test)"
   ]
  },
  {
   "cell_type": "code",
   "execution_count": 117,
   "metadata": {},
   "outputs": [
    {
     "name": "stdout",
     "output_type": "stream",
     "text": [
      "[[ 25   0   0   1   0   0   0   0   1   0   0   1   0   0   0   0   0   0\n",
      "    0   0   0   0   0   0   0   0   0]\n",
      " [  0  14   0  38   1   3   0   0   2   1   0  11   6  12   8   0   4   0\n",
      "    1   0   2   0  10   1   4   0   1]\n",
      " [  1   0   0   6   0   0   0   0   0   0   0   0   0   1   3   0   2   0\n",
      "    0   0   0   0   0   0   0   0   0]\n",
      " [  2  22   0 201   2   8   3   0   2   0   0  25   3  28  16   0  24   0\n",
      "    1   0   3   0  57   0  34   4   1]\n",
      " [  0   2   0   5   2   0   1   0   1   2   0   0   0   1   0   0   0   0\n",
      "    0   0   0   0   0   0   0   0   0]\n",
      " [  1   3   0   5   1 107  17   0   1   0   0   0   2   4   1   0   2   0\n",
      "    0   0   1   0   0   0   0  19   0]\n",
      " [  0   5   0   5   1  17  64   0   2   2   0   0   1   1   0   0   0   0\n",
      "    0   0   0   0   0   0   0  13   0]\n",
      " [  0   0   0   0   1   0   0   0   0   0   0   0   1   2   1   0   0   0\n",
      "    0   0   0   0   0   0   0   0   0]\n",
      " [  5   1   0   5   2   6   8   0  29   0   0   1   2   3   0   0   1   1\n",
      "    0   0   1   0   0   0   1   3   0]\n",
      " [  0   1   0   0   3   1   1   0   0   5   0   0   0   0   0   0   0   0\n",
      "    0   0   0   0   0   0   0   0   0]\n",
      " [  0   0   0   0   1   0   0   0   0   0   0   0   0   0   0   0   0   0\n",
      "    0   0   0   0   0   0   0   0   0]\n",
      " [  2   1   0  10   0   5   0   0   0   0   0 124   3  11  12   1   0   0\n",
      "    0   0   0   0   6   0   9   0   0]\n",
      " [  3   7   0   5   0   1   5   0   0   1   0   0 200  21   1   0   1   0\n",
      "    0   0   0   0   0   0   1   0   0]\n",
      " [  3  17   0  54   4   1   2   0   1   3   0   0  21 279  14   2  13   1\n",
      "    3   0   3   0   0   0   4   1   0]\n",
      " [  0  14   0  41   1   2   0   0   1   0   0  11   5  37 118   4   7   2\n",
      "    0   0   0   0   6   0   4   0   0]\n",
      " [  0   0   1   6   0   1   0   0   0   0   0  15   1   6  24   6   1   1\n",
      "    0   0   0   0   1   0   0   0   0]\n",
      " [  0  23   0 114   0   3   0   0   0   1   0   1   3  34  23   2  47   2\n",
      "    0   0   3   0   2   0   1   0   0]\n",
      " [  0  10   0  28   0   0   0   0   0   0   0   1   0  16  15   3  11   4\n",
      "    0   0   0   0   1   0   0   0   0]\n",
      " [  0   8   0  12   2   0   0   0   0   0   0   0   0   9   3   0   4   0\n",
      "    2   0   1   0   0   0   0   0   0]\n",
      " [  0   0   0   0   0   0   0   0   0   0   0   0   0   0   1   0   0   0\n",
      "    0   0   0   0   0   0   0   0   0]\n",
      " [  0   8   0  10   2   2   0   0   0   2   0   0   0  11   5   0   2   0\n",
      "    0   0  11   0   0   0   0   0   0]\n",
      " [  0   0   0   0   1   0   0   0   0   0   0   0   0   1   0   0   1   0\n",
      "    0   0   0   0   0   0   0   0   0]\n",
      " [  0  11   0 105   1   2   1   0   0   0   0  16   6  13   8   0  10   0\n",
      "    0   0   0   0  50   1  35   1   0]\n",
      " [  0   4   0   3   0   0   0   0   0   0   0   3   7   2   1   0   0   0\n",
      "    0   0   0   0   4   2   6   0   0]\n",
      " [  0   5   0  68   0   2   1   0   0   0   0  12   3  15   3   1   6   0\n",
      "    0   0   0   0  40   1  72   2   2]\n",
      " [  3   1   0   5   0  34  27   0   7   0   0   0   4   0   1   0   0   0\n",
      "    0   0   0   0   3   0   0  76   0]\n",
      " [  0   2   0   6   0   1   0   0   0   0   0   3   8   5   1   0   0   0\n",
      "    0   0   0   0   8   1   9   0   1]]\n",
      "             precision    recall  f1-score   support\n",
      "\n",
      "       2600       0.56      0.89      0.68        28\n",
      "        3DS       0.09      0.12      0.10       119\n",
      "         DC       0.00      0.00      0.00        13\n",
      "         DS       0.27      0.46      0.34       436\n",
      "         GB       0.08      0.14      0.10        14\n",
      "        GBA       0.55      0.65      0.59       164\n",
      "         GC       0.49      0.58      0.53       111\n",
      "        GEN       0.00      0.00      0.00         5\n",
      "        N64       0.62      0.42      0.50        69\n",
      "        NES       0.29      0.45      0.36        11\n",
      "         NG       0.00      0.00      0.00         1\n",
      "         PC       0.55      0.67      0.61       184\n",
      "         PS       0.72      0.81      0.77       246\n",
      "        PS2       0.54      0.65      0.59       426\n",
      "        PS3       0.46      0.47      0.46       253\n",
      "        PS4       0.32      0.10      0.15        63\n",
      "        PSP       0.35      0.18      0.24       259\n",
      "        PSV       0.36      0.04      0.08        89\n",
      "        SAT       0.29      0.05      0.08        41\n",
      "        SCD       0.00      0.00      0.00         1\n",
      "       SNES       0.44      0.21      0.28        53\n",
      "         WS       0.00      0.00      0.00         3\n",
      "        Wii       0.27      0.19      0.22       260\n",
      "       WiiU       0.33      0.06      0.11        32\n",
      "       X360       0.40      0.31      0.35       233\n",
      "         XB       0.64      0.47      0.54       161\n",
      "       XOne       0.20      0.02      0.04        45\n",
      "\n",
      "avg / total       0.43      0.43      0.41      3320\n",
      "\n"
     ]
    },
    {
     "name": "stderr",
     "output_type": "stream",
     "text": [
      "/home/matheus/anaconda3/lib/python3.6/site-packages/sklearn/metrics/classification.py:1135: UndefinedMetricWarning: Precision and F-score are ill-defined and being set to 0.0 in labels with no predicted samples.\n",
      "  'precision', 'predicted', average, warn_for)\n"
     ]
    }
   ],
   "source": [
    "from sklearn.metrics import classification_report, confusion_matrix  \n",
    "print(confusion_matrix(y_test, y_pred))  \n",
    "print(classification_report(y_test, y_pred))"
   ]
  },
  {
   "cell_type": "code",
   "execution_count": 118,
   "metadata": {},
   "outputs": [],
   "source": [
    "error = []"
   ]
  },
  {
   "cell_type": "code",
   "execution_count": 119,
   "metadata": {},
   "outputs": [],
   "source": [
    "for i in range(1, 50):  \n",
    "    knn = KNeighborsClassifier(n_neighbors=i)\n",
    "    knn.fit(X_train, y_train)\n",
    "    pred_i = knn.predict(X_test)\n",
    "    error.append(np.mean(pred_i == y_test))"
   ]
  },
  {
   "cell_type": "code",
   "execution_count": 120,
   "metadata": {},
   "outputs": [
    {
     "data": {
      "text/plain": [
       "[0.4105421686746988,\n",
       " 0.41536144578313255,\n",
       " 0.4135542168674699,\n",
       " 0.4274096385542169,\n",
       " 0.43343373493975906,\n",
       " 0.4286144578313253,\n",
       " 0.4295180722891566,\n",
       " 0.43283132530120483,\n",
       " 0.43704819277108437,\n",
       " 0.43644578313253013,\n",
       " 0.44246987951807226,\n",
       " 0.4346385542168675,\n",
       " 0.4322289156626506,\n",
       " 0.43644578313253013,\n",
       " 0.43644578313253013,\n",
       " 0.4316265060240964,\n",
       " 0.43734939759036146,\n",
       " 0.4358433734939759,\n",
       " 0.425,\n",
       " 0.42771084337349397,\n",
       " 0.4307228915662651,\n",
       " 0.42620481927710846,\n",
       " 0.42891566265060244,\n",
       " 0.42620481927710846,\n",
       " 0.42680722891566264,\n",
       " 0.4274096385542169,\n",
       " 0.42771084337349397,\n",
       " 0.4256024096385542,\n",
       " 0.42530120481927713,\n",
       " 0.4271084337349398,\n",
       " 0.4259036144578313,\n",
       " 0.42289156626506025,\n",
       " 0.4210843373493976,\n",
       " 0.4234939759036145,\n",
       " 0.42289156626506025,\n",
       " 0.4198795180722892,\n",
       " 0.41807228915662653,\n",
       " 0.4177710843373494,\n",
       " 0.4246987951807229,\n",
       " 0.42259036144578316,\n",
       " 0.4198795180722892,\n",
       " 0.422289156626506,\n",
       " 0.42289156626506025,\n",
       " 0.42319277108433734,\n",
       " 0.41807228915662653,\n",
       " 0.41927710843373495,\n",
       " 0.4198795180722892,\n",
       " 0.42289156626506025,\n",
       " 0.422289156626506]"
      ]
     },
     "execution_count": 120,
     "metadata": {},
     "output_type": "execute_result"
    }
   ],
   "source": [
    "error"
   ]
  },
  {
   "cell_type": "code",
   "execution_count": 121,
   "metadata": {},
   "outputs": [
    {
     "data": {
      "text/plain": [
       "Text(0,0.5,'Media de Acerto')"
      ]
     },
     "execution_count": 121,
     "metadata": {},
     "output_type": "execute_result"
    },
    {
     "data": {
      "image/png": "[encoded data removed]",
      "text/plain": [
       "<matplotlib.figure.Figure at 0x7f1d0e133b70>"
      ]
     },
     "metadata": {},
     "output_type": "display_data"
    }
   ],
   "source": [
    "plt.figure(figsize=(12, 6))  \n",
    "plt.plot(range(1, 50), error, color='red', linestyle='dashed', marker='o',  \n",
    "         markerfacecolor='blue', markersize=10)\n",
    "plt.title('Taxa acerto de valores K ')  \n",
    "plt.xlabel('K Valores')  \n",
    "plt.ylabel('Media de Acerto')"
   ]
  },
  {
   "cell_type": "markdown",
   "metadata": {},
   "source": [
    "### Conclusão"
   ]
  },
  {
   "cell_type": "markdown",
   "metadata": {},
   "source": [
    "O melhor resultado que obtemos foi quando se estabelecem algo próximo à 12 vizinhos, tendo uma taxa de acerto média por volta dos 45%. Porém esse valor é baixo e a hipótese acabou sendo refutada, ou seja, não é possível classificar a plataforma de um jogo com precisão baseado apenas nas suas vendas."
   ]
  },
  {
   "cell_type": "code",
   "execution_count": null,
   "metadata": {},
   "outputs": [],
   "source": []
  }
 ],
 "metadata": {
  "kernelspec": {
   "display_name": "Python 3",
   "language": "python",
   "name": "python3"
  },
  "language_info": {
   "codemirror_mode": {
    "name": "ipython",
    "version": 3
   },
   "file_extension": ".py",
   "mimetype": "text/x-python",
   "name": "python",
   "nbconvert_exporter": "python",
   "pygments_lexer": "ipython3",
   "version": "3.6.5"
  }
 },
 "nbformat": 4,
 "nbformat_minor": 2
}
