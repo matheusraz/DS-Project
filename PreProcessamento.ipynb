{
 "cells": [
  {
   "cell_type": "markdown",
   "metadata": {},
   "source": [
    "# Video Game Sales\n",
    "\n",
    "`Matheus Raz (mrol@cin.ufpe.br)`\n",
    "\n",
    "`João Paulo Lins (jplo@cin.ufpe.br)`"
   ]
  },
  {
   "cell_type": "code",
   "execution_count": null,
   "metadata": {},
   "outputs": [],
   "source": [
    "from IPython.display import display\n",
    "\n",
    "import numpy as np\n",
    "import pandas as pd\n",
    "import warnings \n",
    "warnings.filterwarnings('ignore')\n",
    "from sklearn.neural_network import MLPClassifier\n",
    "from sklearn.model_selection import train_test_split\n",
    "from sklearn.linear_model import LinearRegression\n",
    "from sklearn.metrics import accuracy_score"
   ]
  },
  {
   "cell_type": "code",
   "execution_count": null,
   "metadata": {},
   "outputs": [],
   "source": [
    "df = pd.read_csv('VideoGamesSalesWithRatings.csv')\n",
    "df.head()"
   ]
  },
  {
   "cell_type": "code",
   "execution_count": null,
   "metadata": {},
   "outputs": [],
   "source": [
    "df.info()"
   ]
  },
  {
   "cell_type": "code",
   "execution_count": null,
   "metadata": {},
   "outputs": [],
   "source": [
    "df"
   ]
  },
  {
   "cell_type": "code",
   "execution_count": null,
   "metadata": {},
   "outputs": [],
   "source": [
    "minor = df['Year_of_Release'].min()\n",
    "major = df['Year_of_Release'].max()\n",
    "print(\"Menor ano da base: %d\"%(minor))\n",
    "display(df[df['Year_of_Release'] == minor])\n",
    "print(\"Maior ano da base: %d\"%(major))\n",
    "display(df[df['Year_of_Release'] == major])"
   ]
  },
  {
   "cell_type": "code",
   "execution_count": null,
   "metadata": {},
   "outputs": [],
   "source": [
    "df.drop(labels=5936,inplace=True)\n",
    "major = df['Year_of_Release'].max()\n",
    "print(\"Maior ano da base: %d\"%(major))\n",
    "display(df[df['Year_of_Release'] == major])"
   ]
  },
  {
   "cell_type": "markdown",
   "metadata": {},
   "source": [
    "O jogo `Imagine: Makeup Artist` possui vendas espalhadas pelo mundo todo mesmo antes de seu lançamento, isso nos levou a pensar que fosse um tipo de pre-venda, porém após algumas pesquisas constatamos que o jogo foi lançado em 2009 e não possuia nenhuma previsão de lançamento para 2020, por isso tudo indica que seja um dado ruidoso, nos levando a questionar se os outros valores referentes a ele estariam realmente corretos. Optamos então por deletar esse valor do nosso dataset."
   ]
  },
  {
   "cell_type": "code",
   "execution_count": null,
   "metadata": {},
   "outputs": [],
   "source": [
    "df.drop(labels=[14086,16222,16385],inplace=True)\n",
    "major = df['Year_of_Release'].max()\n",
    "print(\"Maior ano da base: %d\"%(major))\n",
    "display(df[df['Year_of_Release'] == major])"
   ]
  },
  {
   "cell_type": "markdown",
   "metadata": {},
   "source": [
    "Os jogos `Phantasy Star Online 2 Episode 4: Deluxe Package` de PS4 e PSV e `Brothers Conflict: Precious Baby` foram lançados em 2016 apenas no Japão e tinham como 2017 o ano de lançamento no resto do mundo. Porém, como a base data de 22 de Dezembro de 2016, não foi computado as vendas no resto do mundo, nem nota da crítica e etc. Sendo assim, optamos por deletar esses valores do nosso dataset."
   ]
  },
  {
   "cell_type": "code",
   "execution_count": null,
   "metadata": {},
   "outputs": [],
   "source": [
    "df.columns"
   ]
  },
  {
   "cell_type": "code",
   "execution_count": null,
   "metadata": {},
   "outputs": [],
   "source": [
    "qtdUserScoreTbd = len(list(filter(lambda x : x is True, [x == 'tbd'  for x in df['User_Score']])))\n",
    "display(\"Quantidade de valores \\\"tbd\\\" na coluna User_Score: %d\"%(qtdUserScoreTbd))\n",
    "\n",
    "df['User_Score'].replace('tbd', np.nan, inplace=True)\n",
    "\n",
    "qtdUserScoreNan = len(list(filter(lambda x : x is True, [x is np.nan  for x in df['User_Score']])))\n",
    "display(\"Quantidade de valores \\\"NaN\\\" na coluna User_Score após a converção: %d\"%(qtdUserScoreNan))\n",
    "\n",
    "df['User_Score'] = df['User_Score'].apply(lambda x : float(x))\n",
    "df.info()"
   ]
  },
  {
   "cell_type": "markdown",
   "metadata": {},
   "source": [
    "A coluna `User_Score` possuia valores igual a `tbd` que no Metacritic significa \"to be determined\". Ou seja, é quando não houve o número mínimo de 4 avaliações para que o Metacritic pode-se considerar a avaliação média dos usuários. Sendo assim, resolvemos considerar que os valores iguais a `tbd` equivalem a `NaN`, visto que os valores correspondentes a `User_count` nesses registros está como `NaN`, o que implíca dizer que não houve usuários avaliadores.\n",
    "\n",
    "Após a substituição de valores, convertemos o tipo da coluna `User_Score` de categórico para numérico"
   ]
  },
  {
   "cell_type": "code",
   "execution_count": null,
   "metadata": {},
   "outputs": [],
   "source": [
    "qtdAnosNan = len(df[np.isnan(df['Year_of_Release'])])\n",
    "display(\"Quantidade de valores \\\"NaN\\\" na coluna Year_of_Release: %d\"%(qtdAnosNan))\n",
    "\n",
    "qtdNASalesNan = len(df[np.isnan(df['NA_Sales'])])\n",
    "display(\"Quantidade de valores \\\"NaN\\\" na coluna NA_Sales: %d\"%(qtdNASalesNan))\n",
    "\n",
    "qtdEUSalesNan = len(df[np.isnan(df['EU_Sales'])])\n",
    "display(\"Quantidade de valores \\\"NaN\\\" na coluna EU_Sales: %d\"%(qtdEUSalesNan))\n",
    "\n",
    "qtdJPSalesNan = len(df[np.isnan(df['JP_Sales'])])\n",
    "display(\"Quantidade de valores \\\"NaN\\\" na coluna JP_Sales: %d\"%(qtdJPSalesNan))\n",
    "\n",
    "qtdOtherSalesNan = len(df[np.isnan(df['Other_Sales'])])\n",
    "display(\"Quantidade de valores \\\"NaN\\\" na coluna Other_Sales: %d\"%(qtdOtherSalesNan))\n",
    "\n",
    "qtdGlobalSalesNan = len(df[np.isnan(df['Global_Sales'])])\n",
    "display(\"Quantidade de valores \\\"NaN\\\" na coluna Global_Sales: %d\"%(qtdGlobalSalesNan))\n",
    "\n",
    "qtdCriticScoreNan = len(df[np.isnan(df['Critic_Score'])])\n",
    "display(\"Quantidade de valores \\\"NaN\\\" na coluna Critic_Score: %d\"%(qtdCriticScoreNan))\n",
    "\n",
    "qtdCriticCountNan = len(df[np.isnan(df['Critic_Count'])])\n",
    "display(\"Quantidade de valores \\\"NaN\\\" na coluna Critic_Count: %d\"%(qtdCriticCountNan))\n",
    "\n",
    "qtdUserScoreNan = len(df[np.isnan(df['User_Score'])])\n",
    "display(\"Quantidade de valores \\\"NaN\\\" na coluna User_Score: %d\"%(qtdUserScoreNan))\n",
    "\n",
    "qtdUserCountNan = len(df[np.isnan(df['User_Count'])])\n",
    "display(\"Quantidade de valores \\\"NaN\\\" na coluna User_Count: %d\"%(qtdUserCountNan))"
   ]
  },
  {
   "cell_type": "code",
   "execution_count": null,
   "metadata": {},
   "outputs": [],
   "source": [
    "qtdNameNan = len(list(filter(lambda x : x is True, [x is np.nan  for x in df['Name']])))\n",
    "display(\"Quantidade de valores \\\"NaN\\\" na coluna Name: %d\"%(qtdNameNan))\n",
    "\n",
    "qtdPlatformNan = len(list(filter(lambda x : x is True, [x is np.nan  for x in df['Platform']])))\n",
    "display(\"Quantidade de valores \\\"NaN\\\" na coluna Platform: %d\"%(qtdPlatformNan))\n",
    "\n",
    "qtdGenreNan = len(list(filter(lambda x : x is True, [x is np.nan  for x in df['Genre']])))\n",
    "display(\"Quantidade de valores \\\"NaN\\\" na coluna Genre: %d\"%(qtdGenreNan))\n",
    "\n",
    "qtdPublisherNan = len(list(filter(lambda x : x is True, [x is np.nan  for x in df['Publisher']])))\n",
    "display(\"Quantidade de valores \\\"NaN\\\" na coluna Publisher: %d\"%(qtdPublisherNan))\n",
    "\n",
    "qtdDeveloperNan = len(list(filter(lambda x : x is True, [x is np.nan  for x in df['Developer']])))\n",
    "display(\"Quantidade de valores \\\"NaN\\\" na coluna Developer: %d\"%(qtdDeveloperNan))\n",
    "\n",
    "qtdRatingNan = len(list(filter(lambda x : x is True, [x is np.nan  for x in df['Rating']])))\n",
    "display(\"Quantidade de valores \\\"NaN\\\" na coluna Rating: %d\"%(qtdRatingNan))"
   ]
  },
  {
   "cell_type": "code",
   "execution_count": null,
   "metadata": {},
   "outputs": [],
   "source": [
    "df = df.dropna(subset = ['Name', 'Genre', 'Publisher', 'Year_of_Release'])\n",
    "\n",
    "qtdNameNan = len(list(filter(lambda x : x is True, [x is np.nan  for x in df['Name']])))\n",
    "qtdGenreNan = len(list(filter(lambda x : x is True, [x is np.nan  for x in df['Genre']])))\n",
    "qtdPublisherNan = len(list(filter(lambda x : x is True, [x is np.nan  for x in df['Publisher']])))\n",
    "qtdAnosNan = len(df[np.isnan(df['Year_of_Release'])])\n",
    "\n",
    "display(\"Quantidade após drop desses valores \\\"NaN\\\" na coluna Name: %d\"%(qtdNameNan))\n",
    "display(\"Quantidade após drop desses valores \\\"NaN\\\" na coluna Genre: %d\"%(qtdGenreNan))\n",
    "display(\"Quantidade após drop desses valores \\\"NaN\\\" na coluna Publisher: %d\"%(qtdPublisherNan))\n",
    "display(\"Quantidade após drop desses valores \\\"NaN\\\" na coluna Year_of_Release: %d\"%(qtdAnosNan))"
   ]
  },
  {
   "cell_type": "code",
   "execution_count": null,
   "metadata": {},
   "outputs": [],
   "source": [
    "qtdCriticScoreNan = len(df[np.isnan(df['Critic_Score'])])\n",
    "display(\"Quantidade de valores \\\"NaN\\\" na coluna Critic_Score: %d\"%(qtdCriticScoreNan))\n",
    "\n",
    "qtdCriticCountNan = len(df[np.isnan(df['Critic_Count'])])\n",
    "display(\"Quantidade de valores \\\"NaN\\\" na coluna Critic_Count: %d\"%(qtdCriticCountNan))\n",
    "\n",
    "qtdUserScoreNan = len(df[np.isnan(df['User_Score'])])\n",
    "display(\"Quantidade de valores \\\"NaN\\\" na coluna User_Score: %d\"%(qtdUserScoreNan))\n",
    "\n",
    "qtdUserCountNan = len(df[np.isnan(df['User_Count'])])\n",
    "display(\"Quantidade de valores \\\"NaN\\\" na coluna User_Count: %d\"%(qtdUserCountNan))\n",
    "\n",
    "df['Critic_Score'].replace(np.nan, 0, inplace=True)\n",
    "df['Critic_Count'].replace(np.nan, 0, inplace=True)\n",
    "df['User_Score'].replace(np.nan, 0, inplace=True)\n",
    "df['User_Count'].replace(np.nan, 0, inplace=True)\n",
    "\n",
    "display(\"Após substituição dos valores \\\"NaN\\\" para \\\"0\\\" temos:\")\n",
    "\n",
    "qtdCriticScoreZero = len(list(filter(lambda x : x is True, [x == 0  for x in df['Critic_Score']])))\n",
    "display(\"Quantidade de valores \\\"0\\\" na coluna Critic_Score: %d\"%(qtdCriticScoreZero))\n",
    "\n",
    "qtdCriticCountZero = len(list(filter(lambda x : x is True, [x == 0  for x in df['Critic_Count']])))\n",
    "display(\"Quantidade de valores \\\"0\\\" na coluna Critic_Count: %d\"%(qtdCriticCountZero))\n",
    "\n",
    "qtdUserScoreZero = len(list(filter(lambda x : x is True, [x == 0  for x in df['User_Score']])))\n",
    "display(\"Quantidade de valores \\\"0\\\" na coluna User_Score: %d\"%(qtdUserScoreZero))\n",
    "\n",
    "qtdUserCountZero = len(list(filter(lambda x : x is True, [x == 0  for x in df['User_Count']])))\n",
    "display(\"Quantidade de valores \\\"0\\\" na coluna User_Count: %d\"%(qtdUserCountZero))"
   ]
  },
  {
   "cell_type": "code",
   "execution_count": null,
   "metadata": {},
   "outputs": [],
   "source": [
    "# qtdDeveloperNan = len(list(filter(lambda x : x is True, [x is np.nan  for x in df['Developer']])))\n",
    "# display(\"Quantidade de valores \\\"NaN\\\" na coluna Developer: %d\"%(qtdDeveloperNan))\n",
    "\n",
    "# for i in range(len(df)):\n",
    "#     if((df.index.isin([i]).any()) and (df.loc[i,'Developer'] is np.nan) and (df.loc[i,'Publisher'] is not np.nan)):\n",
    "#         df['Developer'][i] = df['Publisher'][i]\n",
    "\n",
    "# qtdDeveloperNan = len(list(filter(lambda x : x is True, [x is np.nan  for x in df['Developer']])))\n",
    "# display(\"Quantidade de valores \\\"NaN\\\" na coluna Developer após substituição: %d\"%(qtdDeveloperNan))\n",
    "\n",
    "qtdRatingNan = len(list(filter(lambda x : x is True, [x is np.nan  for x in df['Rating']])))\n",
    "display(\"Quantidade de valores \\\"NaN\\\" na coluna Rating: %d\"%(qtdRatingNan))\n",
    "\n",
    "df['Rating'].replace(np.nan, 'E', inplace=True)\n",
    "\n",
    "qtdRatingNan = len(list(filter(lambda x : x is True, [x is np.nan  for x in df['Rating']])))\n",
    "display(\"Quantidade de valores \\\"NaN\\\" na coluna Rating após substituição: %d\"%(qtdRatingNan))"
   ]
  },
  {
   "cell_type": "markdown",
   "metadata": {},
   "source": [
    "### Tratamento de valores \"NaN\"\n",
    "\n",
    "Testamos se havia valores `NaN`em todas as colunas do dataframe e vimos que as seguintes colunas possuiam as seguintes quantidades desses valores ruidosos:\n",
    "- Year_of_Release: 269\n",
    "- Critic_Score: 8578\n",
    "- Critic_Count: 8578\n",
    "- User_Score: 9125\n",
    "- User_Count: 9125\n",
    "- Name: 2\n",
    "- Genre: 2\n",
    "- Publisher: 54\n",
    "- Developer: 6620\n",
    "- Rating: 6766\n",
    "\n",
    "Como as colunas `Year_of_Release`, `Name`, `Genre` e `Publisher` possuem poucos valores ruidosos comparado ao total de dados do dataframe (16.715 linhas), optamos por dropar esses registros da base.\n",
    "\n",
    "Já as colunas `Critic_Score`, `Critic_Count`, `User_Score` e `User_Count` possuiam mais de 8000 registros ruidosos. Sendo assim optamos por substituir os valores `NaN` por `0`, pois consideramos que `Critic_Count` e `User_Count` com valores `NaN` significa que nenhum usuário avaliou aquele jogo e por isso o `Critic_Score` e `User_Score` possuiriam nota 0.\n",
    "\n",
    "Por fim, como `Rating` é uma coluna de valores categóricos e possuia mais de 6000 registros ruidosos. Neste caso, consideramos que um registro de rating `NaN` seria equivalente ao rating `E`."
   ]
  },
  {
   "cell_type": "code",
   "execution_count": null,
   "metadata": {},
   "outputs": [],
   "source": [
    "df['Year_of_Release'] = df['Year_of_Release'].apply(lambda x : int(x))\n",
    "df.drop(labels=['Critic_Count', 'User_Count'], axis=1, inplace=True)\n",
    "df"
   ]
  },
  {
   "cell_type": "markdown",
   "metadata": {},
   "source": [
    "Convertemos os valores da coluna `Year_of_Release` de float para int.\n",
    "Consideramos que as colunas `Critic_Count` e `User_Count` são irrelevantes dentre as hipóteses levantadas, e por isso decidimos dropálas da base."
   ]
  },
  {
   "cell_type": "code",
   "execution_count": null,
   "metadata": {},
   "outputs": [],
   "source": []
  },
  {
   "cell_type": "code",
   "execution_count": null,
   "metadata": {},
   "outputs": [],
   "source": []
  }
 ],
 "metadata": {
  "kernelspec": {
   "display_name": "Python 3",
   "language": "python",
   "name": "python3"
  },
  "language_info": {
   "codemirror_mode": {
    "name": "ipython",
    "version": 3
   },
   "file_extension": ".py",
   "mimetype": "text/x-python",
   "name": "python",
   "nbconvert_exporter": "python",
   "pygments_lexer": "ipython3",
   "version": "3.7.3"
  }
 },
 "nbformat": 4,
 "nbformat_minor": 2
}
