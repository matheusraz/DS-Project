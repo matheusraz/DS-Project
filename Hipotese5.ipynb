{
 "cells": [
  {
   "cell_type": "markdown",
   "metadata": {},
   "source": [
    "### Hipótese 5 (KNN)\n",
    "`Matheus Raz (mrol@cin.ufpe.br)`\n",
    "\n",
    "`João Paulo Lins (jplo@cin.ufpe.br)`"
   ]
  },
  {
   "cell_type": "markdown",
   "metadata": {},
   "source": [
    "#### É possível predizer a plataforma de um game baseado em suas vendas?"
   ]
  },
  {
   "cell_type": "code",
   "execution_count": 1,
   "metadata": {},
   "outputs": [],
   "source": [
    "import numpy as np  \n",
    "import matplotlib.pyplot as plt  \n",
    "import pandas as pd"
   ]
  },
  {
   "cell_type": "code",
   "execution_count": 2,
   "metadata": {},
   "outputs": [],
   "source": [
    "game = pd.read_csv('vgsales.csv', sep=',', encoding='utf-8')"
   ]
  },
  {
   "cell_type": "code",
   "execution_count": 3,
   "metadata": {},
   "outputs": [
    {
     "data": {
      "text/html": [
       "<div>\n",
       "<style scoped>\n",
       "    .dataframe tbody tr th:only-of-type {\n",
       "        vertical-align: middle;\n",
       "    }\n",
       "\n",
       "    .dataframe tbody tr th {\n",
       "        vertical-align: top;\n",
       "    }\n",
       "\n",
       "    .dataframe thead th {\n",
       "        text-align: right;\n",
       "    }\n",
       "</style>\n",
       "<table border=\"1\" class=\"dataframe\">\n",
       "  <thead>\n",
       "    <tr style=\"text-align: right;\">\n",
       "      <th></th>\n",
       "      <th>Rank</th>\n",
       "      <th>Name</th>\n",
       "      <th>Platform</th>\n",
       "      <th>Year</th>\n",
       "      <th>Genre</th>\n",
       "      <th>Publisher</th>\n",
       "      <th>NA_Sales</th>\n",
       "      <th>EU_Sales</th>\n",
       "      <th>JP_Sales</th>\n",
       "      <th>Other_Sales</th>\n",
       "      <th>Global_Sales</th>\n",
       "    </tr>\n",
       "  </thead>\n",
       "  <tbody>\n",
       "    <tr>\n",
       "      <th>0</th>\n",
       "      <td>1</td>\n",
       "      <td>Wii Sports</td>\n",
       "      <td>Wii</td>\n",
       "      <td>2006.0</td>\n",
       "      <td>Sports</td>\n",
       "      <td>Nintendo</td>\n",
       "      <td>41.49</td>\n",
       "      <td>29.02</td>\n",
       "      <td>3.77</td>\n",
       "      <td>8.46</td>\n",
       "      <td>82.74</td>\n",
       "    </tr>\n",
       "    <tr>\n",
       "      <th>1</th>\n",
       "      <td>2</td>\n",
       "      <td>Super Mario Bros.</td>\n",
       "      <td>NES</td>\n",
       "      <td>1985.0</td>\n",
       "      <td>Platform</td>\n",
       "      <td>Nintendo</td>\n",
       "      <td>29.08</td>\n",
       "      <td>3.58</td>\n",
       "      <td>6.81</td>\n",
       "      <td>0.77</td>\n",
       "      <td>40.24</td>\n",
       "    </tr>\n",
       "    <tr>\n",
       "      <th>2</th>\n",
       "      <td>3</td>\n",
       "      <td>Mario Kart Wii</td>\n",
       "      <td>Wii</td>\n",
       "      <td>2008.0</td>\n",
       "      <td>Racing</td>\n",
       "      <td>Nintendo</td>\n",
       "      <td>15.85</td>\n",
       "      <td>12.88</td>\n",
       "      <td>3.79</td>\n",
       "      <td>3.31</td>\n",
       "      <td>35.82</td>\n",
       "    </tr>\n",
       "    <tr>\n",
       "      <th>3</th>\n",
       "      <td>4</td>\n",
       "      <td>Wii Sports Resort</td>\n",
       "      <td>Wii</td>\n",
       "      <td>2009.0</td>\n",
       "      <td>Sports</td>\n",
       "      <td>Nintendo</td>\n",
       "      <td>15.75</td>\n",
       "      <td>11.01</td>\n",
       "      <td>3.28</td>\n",
       "      <td>2.96</td>\n",
       "      <td>33.00</td>\n",
       "    </tr>\n",
       "    <tr>\n",
       "      <th>4</th>\n",
       "      <td>5</td>\n",
       "      <td>Pokemon Red/Pokemon Blue</td>\n",
       "      <td>GB</td>\n",
       "      <td>1996.0</td>\n",
       "      <td>Role-Playing</td>\n",
       "      <td>Nintendo</td>\n",
       "      <td>11.27</td>\n",
       "      <td>8.89</td>\n",
       "      <td>10.22</td>\n",
       "      <td>1.00</td>\n",
       "      <td>31.37</td>\n",
       "    </tr>\n",
       "  </tbody>\n",
       "</table>\n",
       "</div>"
      ],
      "text/plain": [
       "   Rank                      Name Platform    Year         Genre Publisher  \\\n",
       "0     1                Wii Sports      Wii  2006.0        Sports  Nintendo   \n",
       "1     2         Super Mario Bros.      NES  1985.0      Platform  Nintendo   \n",
       "2     3            Mario Kart Wii      Wii  2008.0        Racing  Nintendo   \n",
       "3     4         Wii Sports Resort      Wii  2009.0        Sports  Nintendo   \n",
       "4     5  Pokemon Red/Pokemon Blue       GB  1996.0  Role-Playing  Nintendo   \n",
       "\n",
       "   NA_Sales  EU_Sales  JP_Sales  Other_Sales  Global_Sales  \n",
       "0     41.49     29.02      3.77         8.46         82.74  \n",
       "1     29.08      3.58      6.81         0.77         40.24  \n",
       "2     15.85     12.88      3.79         3.31         35.82  \n",
       "3     15.75     11.01      3.28         2.96         33.00  \n",
       "4     11.27      8.89     10.22         1.00         31.37  "
      ]
     },
     "execution_count": 3,
     "metadata": {},
     "output_type": "execute_result"
    }
   ],
   "source": [
    "game.head()"
   ]
  },
  {
   "cell_type": "code",
   "execution_count": 4,
   "metadata": {},
   "outputs": [],
   "source": [
    "X = game.iloc[:, 6:11].values  \n",
    "y = game.iloc[:, 2].values "
   ]
  },
  {
   "cell_type": "code",
   "execution_count": 5,
   "metadata": {},
   "outputs": [
    {
     "data": {
      "text/plain": [
       "array([[4.149e+01, 2.902e+01, 3.770e+00, 8.460e+00, 8.274e+01],\n",
       "       [2.908e+01, 3.580e+00, 6.810e+00, 7.700e-01, 4.024e+01],\n",
       "       [1.585e+01, 1.288e+01, 3.790e+00, 3.310e+00, 3.582e+01],\n",
       "       ...,\n",
       "       [0.000e+00, 0.000e+00, 0.000e+00, 0.000e+00, 1.000e-02],\n",
       "       [0.000e+00, 1.000e-02, 0.000e+00, 0.000e+00, 1.000e-02],\n",
       "       [1.000e-02, 0.000e+00, 0.000e+00, 0.000e+00, 1.000e-02]])"
      ]
     },
     "execution_count": 5,
     "metadata": {},
     "output_type": "execute_result"
    }
   ],
   "source": [
    "X"
   ]
  },
  {
   "cell_type": "code",
   "execution_count": 6,
   "metadata": {},
   "outputs": [
    {
     "data": {
      "text/plain": [
       "array(['Wii', 'NES', 'Wii', ..., 'PS2', 'DS', 'GBA'], dtype=object)"
      ]
     },
     "execution_count": 6,
     "metadata": {},
     "output_type": "execute_result"
    }
   ],
   "source": [
    "y"
   ]
  },
  {
   "cell_type": "code",
   "execution_count": 7,
   "metadata": {},
   "outputs": [],
   "source": [
    "from sklearn.model_selection import train_test_split\n",
    "X_train, X_test, y_train, y_test = train_test_split(X, y, test_size=0.20)"
   ]
  },
  {
   "cell_type": "code",
   "execution_count": 8,
   "metadata": {},
   "outputs": [],
   "source": [
    "from sklearn.preprocessing import StandardScaler  \n",
    "scaler = StandardScaler()  \n",
    "scaler.fit(X_train)\n",
    "\n",
    "X_train = scaler.transform(X_train)  \n",
    "X_test = scaler.transform(X_test)"
   ]
  },
  {
   "cell_type": "code",
   "execution_count": 9,
   "metadata": {},
   "outputs": [
    {
     "data": {
      "text/plain": [
       "array([[-0.23151384, -0.22795637, -0.25055993, -0.21589584, -0.26970962],\n",
       "       [-0.31426598, -0.28709598,  0.03545578, -0.27361237, -0.28231199],\n",
       "       [-0.23151384, -0.18852996, -0.25055993, -0.21589584, -0.25710724],\n",
       "       ...,\n",
       "       [-0.19604864,  0.00860207, -0.25055993,  0.07268684, -0.14368587],\n",
       "       [ 0.15860336,  0.00860207, -0.25055993, -0.21589584,  0.01384382],\n",
       "       [-0.30244425, -0.28709598, -0.25055993, -0.27361237, -0.33272149]])"
      ]
     },
     "execution_count": 9,
     "metadata": {},
     "output_type": "execute_result"
    }
   ],
   "source": [
    "X_train"
   ]
  },
  {
   "cell_type": "code",
   "execution_count": 10,
   "metadata": {},
   "outputs": [
    {
     "data": {
      "text/plain": [
       "array([[-0.31426598, -0.28709598, -0.12344184, -0.27361237, -0.31381793],\n",
       "       [-0.26697905, -0.05053754, -0.25055993, -0.10046276, -0.21299893],\n",
       "       [-0.30244425, -0.28709598, -0.25055993, -0.27361237, -0.33272149],\n",
       "       ...,\n",
       "       [-0.14876171, -0.24766957, -0.25055993, -0.21589584, -0.2256013 ],\n",
       "       [-0.31426598, -0.28709598, -0.02810327, -0.27361237, -0.29491437],\n",
       "       [-0.18422691, -0.22795637, -0.25055993, -0.27361237, -0.25080605]])"
      ]
     },
     "execution_count": 10,
     "metadata": {},
     "output_type": "execute_result"
    }
   ],
   "source": [
    "X_test"
   ]
  },
  {
   "cell_type": "code",
   "execution_count": 11,
   "metadata": {},
   "outputs": [
    {
     "data": {
      "text/plain": [
       "KNeighborsClassifier(algorithm='auto', leaf_size=30, metric='minkowski',\n",
       "           metric_params=None, n_jobs=None, n_neighbors=5, p=2,\n",
       "           weights='uniform')"
      ]
     },
     "execution_count": 11,
     "metadata": {},
     "output_type": "execute_result"
    }
   ],
   "source": [
    "from sklearn.neighbors import KNeighborsClassifier  \n",
    "classifier = KNeighborsClassifier(n_neighbors=5)  \n",
    "classifier.fit(X_train, y_train) "
   ]
  },
  {
   "cell_type": "code",
   "execution_count": 12,
   "metadata": {},
   "outputs": [],
   "source": [
    "y_pred = classifier.predict(X_test)"
   ]
  },
  {
   "cell_type": "code",
   "execution_count": 13,
   "metadata": {},
   "outputs": [
    {
     "name": "stdout",
     "output_type": "stream",
     "text": [
      "[[ 24   0   0   1   0   0   0   0   1   0   0   0   1   0   0   0   0   0\n",
      "    0   0   0   0   0   0   0]\n",
      " [  0  18   0  12   0   6   1   0   0   0   0   3   7  19   4   1   9   1\n",
      "    0   4   4   0   7   0   1]\n",
      " [  1   2   0   2   0   1   0   0   0   1   0   0   0   1   0   0   3   0\n",
      "    1   1   0   0   0   0   0]\n",
      " [  1  34   1 183   0  13   3   0   2   2   0  14   5  37   9   0  50  18\n",
      "    0   3  40   1  45   5   0]\n",
      " [  0   3   0   1   3   0   1   0   0   3   0   0   1   5   0   0   0   0\n",
      "    0   5   0   0   0   0   0]\n",
      " [  0   3   0   6   0  97   6   0   0   2   0   0   2   2   1   0   1   0\n",
      "    0   2   0   0   0  10   0]\n",
      " [  0   1   1   7   1  23  63   0   7   0   0   0   0   2   1   0   0   0\n",
      "    0   0   0   0   0  20   0]\n",
      " [  0   0   1   0   0   0   0   0   0   0   0   0   0   0   1   0   1   0\n",
      "    0   0   0   0   0   0   0]\n",
      " [  4   0   0   3   0   7  10   1  23   0   0   0   1   1   0   0   2   2\n",
      "    0   0   0   0   1   4   0]\n",
      " [  0   0   0   1   2   0   0   0   1   1   0   0   1   0   0   0   0   0\n",
      "    0   3   0   0   0   0   0]\n",
      " [  0   1   0   1   0   0   0   0   0   0   0   0   0   2   0   0   0   0\n",
      "    0   0   0   0   0   0   0]\n",
      " [  1   7   0  12   0   3   0   0   0   0   0 131   2   8   9   2   1   0\n",
      "    0   0  13   0   7   0   0]\n",
      " [  1   6   0   3   0  10   0   0   0   3   0   3 187  13   2   0   1   0\n",
      "    0   1   0   0   0   2   1]\n",
      " [  1  16   1   7   1  12   1   0   0   0   0   8  20 298   9   2  24  22\n",
      "    4   3   1   0   8   1   0]\n",
      " [  0   7   0  25   0   2   0   0   1   0   0  16   5  30 117   4  19  15\n",
      "    1   0   7   2   3   0   1]\n",
      " [  0   2   0   6   0   1   1   0   0   0   0  12   1   8  33   7   2   6\n",
      "    0   1   1   0   2   0   1]\n",
      " [  1  19   1  38   0   6   0   0   0   1   0   6   4  28  19   2  78  25\n",
      "    1   2   9   0   3   0   0]\n",
      " [  0   8   0   4   0   2   0   0   0   0   0   2   0  15   7   0  18  17\n",
      "    0   1   0   0   0   0   0]\n",
      " [  0   4   0   2   0   3   0   0   0   0   0   0   0   9   2   0   4   3\n",
      "    3   2   0   0   0   0   0]\n",
      " [  0   9   0   7   1   0   0   0   1   4   0   0   0  17   0   0   4   0\n",
      "    0   8   0   0   0   0   0]\n",
      " [  0  13   0  96   1   4   2   0   0   0   0  11   6  13   8   0  20   6\n",
      "    2   0  42   2  32   1   1]\n",
      " [  0   3   0   3   0   0   0   0   0   0   0   4   2   1   1   0   1   4\n",
      "    0   0   2   1   5   0   0]\n",
      " [  0  11   0  60   0   3   0   0   0   0   0  13   8   8   9   0  18   4\n",
      "    0   0  42   1  75   3   2]\n",
      " [  3   0   0   6   0  52  30   0   1   0   0   0   4   1   1   0   1   0\n",
      "    0   0   1   0   1  72   0]\n",
      " [  0   3   0   4   0   1   0   0   0   0   0   6   6   2   1   0   0   0\n",
      "    0   0   6   1   7   0   1]]\n",
      "              precision    recall  f1-score   support\n",
      "\n",
      "        2600       0.65      0.89      0.75        27\n",
      "         3DS       0.11      0.19      0.13        97\n",
      "          DC       0.00      0.00      0.00        13\n",
      "          DS       0.37      0.39      0.38       466\n",
      "          GB       0.33      0.14      0.19        22\n",
      "         GBA       0.39      0.73      0.51       132\n",
      "          GC       0.53      0.50      0.52       126\n",
      "         GEN       0.00      0.00      0.00         3\n",
      "         N64       0.62      0.39      0.48        59\n",
      "         NES       0.06      0.11      0.08         9\n",
      "          NG       0.00      0.00      0.00         4\n",
      "          PC       0.57      0.67      0.62       196\n",
      "          PS       0.71      0.80      0.75       233\n",
      "         PS2       0.57      0.68      0.62       439\n",
      "         PS3       0.50      0.46      0.48       255\n",
      "         PS4       0.39      0.08      0.14        84\n",
      "         PSP       0.30      0.32      0.31       243\n",
      "         PSV       0.14      0.23      0.17        74\n",
      "         SAT       0.25      0.09      0.14        32\n",
      "        SNES       0.22      0.16      0.18        51\n",
      "         Wii       0.25      0.16      0.20       260\n",
      "        WiiU       0.12      0.04      0.06        27\n",
      "        X360       0.38      0.29      0.33       257\n",
      "          XB       0.61      0.42      0.49       173\n",
      "        XOne       0.12      0.03      0.04        38\n",
      "\n",
      "   micro avg       0.44      0.44      0.44      3320\n",
      "   macro avg       0.33      0.31      0.30      3320\n",
      "weighted avg       0.43      0.44      0.42      3320\n",
      "\n"
     ]
    },
    {
     "name": "stderr",
     "output_type": "stream",
     "text": [
      "/home/joaopaulo/anaconda3/lib/python3.7/site-packages/sklearn/metrics/classification.py:1143: UndefinedMetricWarning: Precision and F-score are ill-defined and being set to 0.0 in labels with no predicted samples.\n",
      "  'precision', 'predicted', average, warn_for)\n"
     ]
    }
   ],
   "source": [
    "from sklearn.metrics import classification_report, confusion_matrix  \n",
    "print(confusion_matrix(y_test, y_pred))  \n",
    "print(classification_report(y_test, y_pred))"
   ]
  },
  {
   "cell_type": "code",
   "execution_count": 14,
   "metadata": {},
   "outputs": [],
   "source": [
    "success = []"
   ]
  },
  {
   "cell_type": "code",
   "execution_count": 15,
   "metadata": {},
   "outputs": [],
   "source": [
    "for i in range(1, 50):  \n",
    "    knn = KNeighborsClassifier(n_neighbors=i)\n",
    "    knn.fit(X_train, y_train)\n",
    "    pred_i = knn.predict(X_test)\n",
    "    success.append(np.mean(pred_i == y_test))"
   ]
  },
  {
   "cell_type": "code",
   "execution_count": 16,
   "metadata": {},
   "outputs": [
    {
     "data": {
      "text/plain": [
       "[0.4343373493975904,\n",
       " 0.42289156626506025,\n",
       " 0.42409638554216866,\n",
       " 0.4280120481927711,\n",
       " 0.43644578313253013,\n",
       " 0.44216867469879517,\n",
       " 0.4358433734939759,\n",
       " 0.4319277108433735,\n",
       " 0.4430722891566265,\n",
       " 0.4469879518072289,\n",
       " 0.4433734939759036,\n",
       " 0.4433734939759036,\n",
       " 0.44879518072289154,\n",
       " 0.44457831325301206,\n",
       " 0.4457831325301205,\n",
       " 0.44819277108433736,\n",
       " 0.44608433734939756,\n",
       " 0.44246987951807226,\n",
       " 0.44367469879518073,\n",
       " 0.44367469879518073,\n",
       " 0.4430722891566265,\n",
       " 0.4397590361445783,\n",
       " 0.44006024096385543,\n",
       " 0.44156626506024094,\n",
       " 0.44096385542168676,\n",
       " 0.43493975903614457,\n",
       " 0.43614457831325304,\n",
       " 0.4343373493975904,\n",
       " 0.43373493975903615,\n",
       " 0.4316265060240964,\n",
       " 0.4295180722891566,\n",
       " 0.43012048192771085,\n",
       " 0.4307228915662651,\n",
       " 0.42981927710843376,\n",
       " 0.4322289156626506,\n",
       " 0.4295180722891566,\n",
       " 0.42680722891566264,\n",
       " 0.4286144578313253,\n",
       " 0.42620481927710846,\n",
       " 0.4274096385542169,\n",
       " 0.42680722891566264,\n",
       " 0.42620481927710846,\n",
       " 0.42620481927710846,\n",
       " 0.4259036144578313,\n",
       " 0.42319277108433734,\n",
       " 0.42259036144578316,\n",
       " 0.4186746987951807,\n",
       " 0.4177710843373494,\n",
       " 0.4162650602409639]"
      ]
     },
     "execution_count": 16,
     "metadata": {},
     "output_type": "execute_result"
    }
   ],
   "source": [
    "success"
   ]
  },
  {
   "cell_type": "code",
   "execution_count": 17,
   "metadata": {},
   "outputs": [
    {
     "data": {
      "text/plain": [
       "Text(0, 0.5, 'Media de Acerto')"
      ]
     },
     "execution_count": 17,
     "metadata": {},
     "output_type": "execute_result"
    },
    {
     "data": {
      "image/png": "[encoded data removed]",
      "text/plain": [
       "<Figure size 864x432 with 1 Axes>"
      ]
     },
     "metadata": {
      "needs_background": "light"
     },
     "output_type": "display_data"
    }
   ],
   "source": [
    "plt.figure(figsize=(12, 6))  \n",
    "plt.plot(range(1, 50), success, color='red', linestyle='dashed', marker='o',  \n",
    "         markerfacecolor='blue', markersize=10)\n",
    "plt.title('Taxa acerto de valores K ')  \n",
    "plt.xlabel('K Valores')  \n",
    "plt.ylabel('Media de Acerto')"
   ]
  },
  {
   "cell_type": "markdown",
   "metadata": {},
   "source": [
    "### Conclusão"
   ]
  },
  {
   "cell_type": "markdown",
   "metadata": {},
   "source": [
    "O melhor resultado que obtemos foi quando se estabelecem algo próximo à 15 vizinhos, tendo uma taxa de acerto média por volta dos 45%. Porém esse valor é baixo e a hipótese acabou sendo refutada, ou seja, não é possível classificar a plataforma de um jogo com precisão baseado apenas nas suas vendas."
   ]
  },
  {
   "cell_type": "code",
   "execution_count": null,
   "metadata": {},
   "outputs": [],
   "source": []
  }
 ],
 "metadata": {
  "kernelspec": {
   "display_name": "Python 3",
   "language": "python",
   "name": "python3"
  },
  "language_info": {
   "codemirror_mode": {
    "name": "ipython",
    "version": 3
   },
   "file_extension": ".py",
   "mimetype": "text/x-python",
   "name": "python",
   "nbconvert_exporter": "python",
   "pygments_lexer": "ipython3",
   "version": "3.7.3"
  }
 },
 "nbformat": 4,
 "nbformat_minor": 2
}
