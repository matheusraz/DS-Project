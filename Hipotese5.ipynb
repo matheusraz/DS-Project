{
 "cells": [
  {
   "cell_type": "markdown",
   "metadata": {},
   "source": [
    "### Hipótese 5 (KNN)\n",
    "`Matheus Raz (mrol@cin.ufpe.br)`\n",
    "\n",
    "`João Paulo Lins (jplo@cin.ufpe.br)`"
   ]
  },
  {
   "cell_type": "markdown",
   "metadata": {},
   "source": [
    "#### É possível predizer a plataforma de um game baseado em suas vendas?"
   ]
  },
  {
   "cell_type": "code",
   "execution_count": 58,
   "metadata": {},
   "outputs": [],
   "source": [
    "import numpy as np  \n",
    "import matplotlib.pyplot as plt  \n",
    "import pandas as pd\n",
    "from sklearn.model_selection import train_test_split\n",
    "from sklearn.metrics import classification_report, confusion_matrix\n",
    "from sklearn.utils.multiclass import unique_labels\n",
    "from sklearn.neighbors import KNeighborsClassifier "
   ]
  },
  {
   "cell_type": "code",
   "execution_count": 59,
   "metadata": {},
   "outputs": [
    {
     "data": {
      "text/plain": [
       "644"
      ]
     },
     "metadata": {},
     "output_type": "display_data"
    },
    {
     "data": {
      "text/html": [
       "<div>\n",
       "<style scoped>\n",
       "    .dataframe tbody tr th:only-of-type {\n",
       "        vertical-align: middle;\n",
       "    }\n",
       "\n",
       "    .dataframe tbody tr th {\n",
       "        vertical-align: top;\n",
       "    }\n",
       "\n",
       "    .dataframe thead th {\n",
       "        text-align: right;\n",
       "    }\n",
       "</style>\n",
       "<table border=\"1\" class=\"dataframe\">\n",
       "  <thead>\n",
       "    <tr style=\"text-align: right;\">\n",
       "      <th></th>\n",
       "      <th>Name</th>\n",
       "      <th>Platform_left</th>\n",
       "      <th>Year_of_Release</th>\n",
       "      <th>Genre</th>\n",
       "      <th>Publisher</th>\n",
       "      <th>NA_Sales</th>\n",
       "      <th>EU_Sales</th>\n",
       "      <th>JP_Sales</th>\n",
       "      <th>Other_Sales</th>\n",
       "      <th>Global_Sales</th>\n",
       "      <th>...</th>\n",
       "      <th>mixi, Inc</th>\n",
       "      <th>responDESIGN</th>\n",
       "      <th>AO</th>\n",
       "      <th>E</th>\n",
       "      <th>E10+</th>\n",
       "      <th>EC</th>\n",
       "      <th>K-A</th>\n",
       "      <th>M</th>\n",
       "      <th>RP</th>\n",
       "      <th>T</th>\n",
       "    </tr>\n",
       "  </thead>\n",
       "  <tbody>\n",
       "    <tr>\n",
       "      <th>0</th>\n",
       "      <td>Wii Sports</td>\n",
       "      <td>Wii</td>\n",
       "      <td>2006</td>\n",
       "      <td>Sports</td>\n",
       "      <td>Nintendo</td>\n",
       "      <td>1.000000</td>\n",
       "      <td>1.000000</td>\n",
       "      <td>0.368885</td>\n",
       "      <td>0.799432</td>\n",
       "      <td>1.000000</td>\n",
       "      <td>...</td>\n",
       "      <td>0</td>\n",
       "      <td>0</td>\n",
       "      <td>0</td>\n",
       "      <td>1</td>\n",
       "      <td>0</td>\n",
       "      <td>0</td>\n",
       "      <td>0</td>\n",
       "      <td>0</td>\n",
       "      <td>0</td>\n",
       "      <td>0</td>\n",
       "    </tr>\n",
       "    <tr>\n",
       "      <th>1</th>\n",
       "      <td>Super Mario Bros.</td>\n",
       "      <td>NES</td>\n",
       "      <td>1985</td>\n",
       "      <td>Platform</td>\n",
       "      <td>Nintendo</td>\n",
       "      <td>0.703095</td>\n",
       "      <td>0.123619</td>\n",
       "      <td>0.666341</td>\n",
       "      <td>0.072848</td>\n",
       "      <td>0.487580</td>\n",
       "      <td>...</td>\n",
       "      <td>0</td>\n",
       "      <td>0</td>\n",
       "      <td>0</td>\n",
       "      <td>1</td>\n",
       "      <td>0</td>\n",
       "      <td>0</td>\n",
       "      <td>0</td>\n",
       "      <td>0</td>\n",
       "      <td>0</td>\n",
       "      <td>0</td>\n",
       "    </tr>\n",
       "    <tr>\n",
       "      <th>2</th>\n",
       "      <td>Mario Kart Wii</td>\n",
       "      <td>Wii</td>\n",
       "      <td>2008</td>\n",
       "      <td>Racing</td>\n",
       "      <td>Nintendo</td>\n",
       "      <td>0.379110</td>\n",
       "      <td>0.440608</td>\n",
       "      <td>0.370841</td>\n",
       "      <td>0.311258</td>\n",
       "      <td>0.430389</td>\n",
       "      <td>...</td>\n",
       "      <td>0</td>\n",
       "      <td>0</td>\n",
       "      <td>0</td>\n",
       "      <td>1</td>\n",
       "      <td>0</td>\n",
       "      <td>0</td>\n",
       "      <td>0</td>\n",
       "      <td>0</td>\n",
       "      <td>0</td>\n",
       "      <td>0</td>\n",
       "    </tr>\n",
       "    <tr>\n",
       "      <th>3</th>\n",
       "      <td>Wii Sports Resort</td>\n",
       "      <td>Wii</td>\n",
       "      <td>2009</td>\n",
       "      <td>Sports</td>\n",
       "      <td>Nintendo</td>\n",
       "      <td>0.377418</td>\n",
       "      <td>0.377417</td>\n",
       "      <td>0.320939</td>\n",
       "      <td>0.279092</td>\n",
       "      <td>0.397068</td>\n",
       "      <td>...</td>\n",
       "      <td>0</td>\n",
       "      <td>0</td>\n",
       "      <td>0</td>\n",
       "      <td>1</td>\n",
       "      <td>0</td>\n",
       "      <td>0</td>\n",
       "      <td>0</td>\n",
       "      <td>0</td>\n",
       "      <td>0</td>\n",
       "      <td>0</td>\n",
       "    </tr>\n",
       "    <tr>\n",
       "      <th>4</th>\n",
       "      <td>Pokemon Red/Pokemon Blue</td>\n",
       "      <td>GB</td>\n",
       "      <td>1996</td>\n",
       "      <td>Role-Playing</td>\n",
       "      <td>Nintendo</td>\n",
       "      <td>0.272485</td>\n",
       "      <td>0.306975</td>\n",
       "      <td>1.000000</td>\n",
       "      <td>0.094607</td>\n",
       "      <td>0.380104</td>\n",
       "      <td>...</td>\n",
       "      <td>0</td>\n",
       "      <td>0</td>\n",
       "      <td>0</td>\n",
       "      <td>1</td>\n",
       "      <td>0</td>\n",
       "      <td>0</td>\n",
       "      <td>0</td>\n",
       "      <td>0</td>\n",
       "      <td>0</td>\n",
       "      <td>0</td>\n",
       "    </tr>\n",
       "  </tbody>\n",
       "</table>\n",
       "<p>5 rows × 644 columns</p>\n",
       "</div>"
      ],
      "text/plain": [
       "                       Name Platform_left  Year_of_Release         Genre  \\\n",
       "0                Wii Sports           Wii             2006        Sports   \n",
       "1         Super Mario Bros.           NES             1985      Platform   \n",
       "2            Mario Kart Wii           Wii             2008        Racing   \n",
       "3         Wii Sports Resort           Wii             2009        Sports   \n",
       "4  Pokemon Red/Pokemon Blue            GB             1996  Role-Playing   \n",
       "\n",
       "  Publisher  NA_Sales  EU_Sales  JP_Sales  Other_Sales  Global_Sales  ...  \\\n",
       "0  Nintendo  1.000000  1.000000  0.368885     0.799432      1.000000  ...   \n",
       "1  Nintendo  0.703095  0.123619  0.666341     0.072848      0.487580  ...   \n",
       "2  Nintendo  0.379110  0.440608  0.370841     0.311258      0.430389  ...   \n",
       "3  Nintendo  0.377418  0.377417  0.320939     0.279092      0.397068  ...   \n",
       "4  Nintendo  0.272485  0.306975  1.000000     0.094607      0.380104  ...   \n",
       "\n",
       "   mixi, Inc  responDESIGN AO  E  E10+  EC  K-A  M  RP  T  \n",
       "0          0             0  0  1     0   0    0  0   0  0  \n",
       "1          0             0  0  1     0   0    0  0   0  0  \n",
       "2          0             0  0  1     0   0    0  0   0  0  \n",
       "3          0             0  0  1     0   0    0  0   0  0  \n",
       "4          0             0  0  1     0   0    0  0   0  0  \n",
       "\n",
       "[5 rows x 644 columns]"
      ]
     },
     "execution_count": 59,
     "metadata": {},
     "output_type": "execute_result"
    }
   ],
   "source": [
    "df = pd.read_csv('vgsalesPP2.csv')\n",
    "df.drop(['Unnamed: 0'],axis=1,inplace=True)\n",
    "display(len(df.columns))\n",
    "df.head()"
   ]
  },
  {
   "cell_type": "code",
   "execution_count": 60,
   "metadata": {},
   "outputs": [],
   "source": [
    "all_sales = df.iloc[:, 5:10].copy()\n",
    "all_genres = df.iloc[:, 50:57].copy()\n",
    "\n",
    "X = all_sales.join(all_genres).values.copy()\n",
    "y = df[\"Rating\"].values.copy()"
   ]
  },
  {
   "cell_type": "code",
   "execution_count": 61,
   "metadata": {},
   "outputs": [
    {
     "data": {
      "text/plain": [
       "array([[1.00000000e+00, 1.00000000e+00, 3.68884540e-01, ...,\n",
       "        0.00000000e+00, 1.00000000e+00, 0.00000000e+00],\n",
       "       [7.03094778e-01, 1.23618785e-01, 6.66340509e-01, ...,\n",
       "        0.00000000e+00, 0.00000000e+00, 0.00000000e+00],\n",
       "       [3.79110251e-01, 4.40607735e-01, 3.70841487e-01, ...,\n",
       "        0.00000000e+00, 0.00000000e+00, 0.00000000e+00],\n",
       "       ...,\n",
       "       [0.00000000e+00, 0.00000000e+00, 9.78473581e-04, ...,\n",
       "        0.00000000e+00, 0.00000000e+00, 0.00000000e+00],\n",
       "       [2.41779497e-04, 0.00000000e+00, 0.00000000e+00, ...,\n",
       "        0.00000000e+00, 0.00000000e+00, 0.00000000e+00],\n",
       "       [0.00000000e+00, 0.00000000e+00, 9.78473581e-04, ...,\n",
       "        1.00000000e+00, 0.00000000e+00, 0.00000000e+00]])"
      ]
     },
     "execution_count": 61,
     "metadata": {},
     "output_type": "execute_result"
    }
   ],
   "source": [
    "X # Valores das vendas e generos."
   ]
  },
  {
   "cell_type": "code",
   "execution_count": 62,
   "metadata": {},
   "outputs": [
    {
     "data": {
      "text/plain": [
       "array(['E', 'E', 'E', ..., 'E', 'E', 'E'], dtype=object)"
      ]
     },
     "execution_count": 62,
     "metadata": {},
     "output_type": "execute_result"
    }
   ],
   "source": [
    "y # Valores de Genre"
   ]
  },
  {
   "cell_type": "code",
   "execution_count": 63,
   "metadata": {},
   "outputs": [],
   "source": [
    "X_train, X_test, y_train, y_test = train_test_split(X, y, test_size=0.30)"
   ]
  },
  {
   "cell_type": "code",
   "execution_count": 64,
   "metadata": {},
   "outputs": [
    {
     "data": {
      "text/plain": [
       "[0.582859463850528,\n",
       " 0.6218521527213647,\n",
       " 0.6283509341998376,\n",
       " 0.6356620633631194,\n",
       " 0.6409423233143785,\n",
       " 0.6435824532900081,\n",
       " 0.6506904955320877,\n",
       " 0.6468318440292445,\n",
       " 0.6512997562956946,\n",
       " 0.6519090170593014,\n",
       " 0.6525182778229082,\n",
       " 0.6531275385865151,\n",
       " 0.6533306255077173,\n",
       " 0.6549553208773355,\n",
       " 0.6551584077985377,\n",
       " 0.6541429731925265,\n",
       " 0.654549147034931,\n",
       " 0.6541429731925265,\n",
       " 0.6555645816409423,\n",
       " 0.6557676685621446,\n",
       " 0.6541429731925265,\n",
       " 0.6575954508529651,\n",
       " 0.6539398862713242,\n",
       " 0.6547522339561332,\n",
       " 0.6537367993501219,\n",
       " 0.6541429731925265,\n",
       " 0.6557676685621446,\n",
       " 0.6547522339561332,\n",
       " 0.65536149471974,\n",
       " 0.6547522339561332,\n",
       " 0.6551584077985377,\n",
       " 0.6547522339561332,\n",
       " 0.6559707554833468,\n",
       " 0.6561738424045491,\n",
       " 0.65536149471974,\n",
       " 0.654549147034931,\n",
       " 0.6555645816409423,\n",
       " 0.6557676685621446,\n",
       " 0.6573923639317628,\n",
       " 0.6569861900893582,\n",
       " 0.6559707554833468,\n",
       " 0.6557676685621446,\n",
       " 0.6555645816409423,\n",
       " 0.6559707554833468,\n",
       " 0.6559707554833468,\n",
       " 0.6571892770105605,\n",
       " 0.6571892770105605,\n",
       " 0.654549147034931,\n",
       " 0.6529244516653128]"
      ]
     },
     "execution_count": 64,
     "metadata": {},
     "output_type": "execute_result"
    }
   ],
   "source": [
    "success = []\n",
    "for i in range(1, 50):  \n",
    "    knn = KNeighborsClassifier(n_neighbors=i)\n",
    "    knn.fit(X_train, y_train)\n",
    "    pred_i = knn.predict(X_test)\n",
    "    success.append(np.mean(pred_i == y_test))\n",
    "success"
   ]
  },
  {
   "cell_type": "code",
   "execution_count": 65,
   "metadata": {},
   "outputs": [
    {
     "name": "stdout",
     "output_type": "stream",
     "text": [
      "Melhor resultado: 0.6575954508529651 para o k igual a 22\n"
     ]
    },
    {
     "data": {
      "image/png": "[encoded data removed]",
      "text/plain": [
       "<Figure size 864x432 with 1 Axes>"
      ]
     },
     "metadata": {
      "needs_background": "light"
     },
     "output_type": "display_data"
    }
   ],
   "source": [
    "plt.figure(figsize=(12, 6))  \n",
    "plt.plot(range(1, 50), success, color='red', linestyle='dashed', marker='o',  \n",
    "         markerfacecolor='blue', markersize=10)\n",
    "plt.title('Taxa acerto de valores K ')  \n",
    "plt.xlabel('K Valores')  \n",
    "plt.ylabel('Media de Acerto')\n",
    "\n",
    "best_result = 0\n",
    "for i in success:\n",
    "    if(i > best_result):\n",
    "        best_result = i\n",
    "best_k_value = success.index(best_result) + 1\n",
    "print(\"Melhor resultado:\",best_result,\"para o k igual a\",best_k_value)"
   ]
  },
  {
   "cell_type": "code",
   "execution_count": 66,
   "metadata": {},
   "outputs": [
    {
     "data": {
      "text/plain": [
       "KNeighborsClassifier(algorithm='auto', leaf_size=30, metric='minkowski',\n",
       "           metric_params=None, n_jobs=None, n_neighbors=22, p=2,\n",
       "           weights='uniform')"
      ]
     },
     "execution_count": 66,
     "metadata": {},
     "output_type": "execute_result"
    }
   ],
   "source": [
    "classifier = KNeighborsClassifier(n_neighbors=best_k_value)  \n",
    "classifier.fit(X_train, y_train)"
   ]
  },
  {
   "cell_type": "code",
   "execution_count": 67,
   "metadata": {},
   "outputs": [],
   "source": [
    "y_pred = classifier.predict(X_test)"
   ]
  },
  {
   "cell_type": "code",
   "execution_count": 68,
   "metadata": {},
   "outputs": [],
   "source": [
    "def plot_confusion_matrix(y_true, y_pred, classes,\n",
    "                          normalize=False,\n",
    "                          title=None,\n",
    "                          cmap=plt.cm.Blues):\n",
    "    \"\"\"\n",
    "    This function prints and plots the confusion matrix.\n",
    "    Normalization can be applied by setting `normalize=True`.\n",
    "    \"\"\"\n",
    "    if not title:\n",
    "        if normalize:\n",
    "            title = 'Normalized confusion matrix'\n",
    "        else:\n",
    "            title = 'Confusion matrix, without normalization'\n",
    "\n",
    "    # Compute confusion matrix\n",
    "    cm = confusion_matrix(y_true, y_pred)\n",
    "    # Only use the labels that appear in the data\n",
    "    classes = classes[unique_labels(y_true, y_pred)]\n",
    "    if normalize:\n",
    "        cm = cm.astype('float') / cm.sum(axis=1)[:, np.newaxis]\n",
    "        print(\"Normalized confusion matrix\")\n",
    "    else:\n",
    "        print('Confusion matrix, without normalization')\n",
    "\n",
    "    fig, ax = plt.subplots(figsize=(40, 20))\n",
    "    im = ax.imshow(cm, interpolation='nearest', cmap=cmap)\n",
    "    ax.figure.colorbar(im, ax=ax)\n",
    "    # We want to show all ticks...\n",
    "    ax.set(xticks=np.arange(cm.shape[1]),\n",
    "           yticks=np.arange(cm.shape[0]),\n",
    "           # ... and label them with the respective list entries\n",
    "           xticklabels=classes, yticklabels=classes,\n",
    "           title=title,\n",
    "           ylabel='True label',\n",
    "           xlabel='Predicted label')\n",
    "\n",
    "    # Rotate the tick labels and set their alignment.\n",
    "    plt.setp(ax.get_xticklabels(), rotation=45, ha=\"right\",\n",
    "             rotation_mode=\"anchor\")\n",
    "\n",
    "    # Loop over data dimensions and create text annotations.\n",
    "    fmt = '.2f' if normalize else 'd'\n",
    "    thresh = cm.max() / 2.\n",
    "    for i in range(cm.shape[0]):\n",
    "        for j in range(cm.shape[1]):\n",
    "            ax.text(j, i, format(cm[i, j], fmt),\n",
    "                    ha=\"center\", va=\"center\",\n",
    "                    color=\"white\" if cm[i, j] > thresh else \"black\")\n",
    "    fig.tight_layout()\n",
    "    return ax"
   ]
  },
  {
   "cell_type": "code",
   "execution_count": 69,
   "metadata": {},
   "outputs": [],
   "source": [
    "def list_string_to_list_index(list_keys, list_string):\n",
    "    list_index = []\n",
    "    for i in list_string:\n",
    "        list_index.append(list_keys.index(i))\n",
    "    return list_index;"
   ]
  },
  {
   "cell_type": "code",
   "execution_count": 70,
   "metadata": {},
   "outputs": [
    {
     "name": "stdout",
     "output_type": "stream",
     "text": [
      "Normalized confusion matrix\n"
     ]
    },
    {
     "data": {
      "text/plain": [
       "<matplotlib.axes._subplots.AxesSubplot at 0x7fd57b6127f0>"
      ]
     },
     "execution_count": 70,
     "metadata": {},
     "output_type": "execute_result"
    },
    {
     "data": {
      "image/png": "[encoded data removed]",
      "text/plain": [
       "<Figure size 2880x1440 with 2 Axes>"
      ]
     },
     "metadata": {
      "needs_background": "light"
     },
     "output_type": "display_data"
    }
   ],
   "source": [
    "class_names = df[\"Rating\"].unique()\n",
    "\n",
    "y_test_index = list_string_to_list_index(list(class_names), y_test)\n",
    "y_pred_index = list_string_to_list_index(list(class_names), y_pred)\n",
    "\n",
    "plot_confusion_matrix(y_test_index, y_pred_index, classes=class_names, normalize=True,\n",
    "                      title='Normalized confusion matrix')"
   ]
  },
  {
   "cell_type": "markdown",
   "metadata": {},
   "source": [
    "### Conclusão"
   ]
  },
  {
   "cell_type": "markdown",
   "metadata": {},
   "source": [
    "O melhor resultado que obtemos foi quando se estabelecem algo próximo à 15 vizinhos, tendo uma taxa de acerto média por volta dos 45%. Porém esse valor é baixo e a hipótese acabou sendo refutada, ou seja, não é possível classificar a plataforma de um jogo com precisão baseado apenas nas suas vendas."
   ]
  },
  {
   "cell_type": "code",
   "execution_count": null,
   "metadata": {},
   "outputs": [],
   "source": []
  }
 ],
 "metadata": {
  "kernelspec": {
   "display_name": "Python 3",
   "language": "python",
   "name": "python3"
  },
  "language_info": {
   "codemirror_mode": {
    "name": "ipython",
    "version": 3
   },
   "file_extension": ".py",
   "mimetype": "text/x-python",
   "name": "python",
   "nbconvert_exporter": "python",
   "pygments_lexer": "ipython3",
   "version": "3.7.3"
  }
 },
 "nbformat": 4,
 "nbformat_minor": 2
}
